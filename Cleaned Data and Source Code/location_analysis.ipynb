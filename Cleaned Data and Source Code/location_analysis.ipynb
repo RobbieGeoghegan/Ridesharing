{
 "cells": [
  {
   "cell_type": "markdown",
   "metadata": {},
   "source": [
    "### Setup"
   ]
  },
  {
   "cell_type": "code",
   "execution_count": 1,
   "metadata": {},
   "outputs": [],
   "source": [
    "import pandas as pd\n",
    "import matplotlib.pyplot as plt\n",
    "import numpy as np\n",
    "import datetime as dt\n",
    "from datetime import datetime, timedelta\n",
    "import time\n",
    "import numpy as np\n",
    "\n",
    "from sklearn import datasets, linear_model\n",
    "from sklearn.metrics import mean_squared_error, r2_score"
   ]
  },
  {
   "cell_type": "code",
   "execution_count": 2,
   "metadata": {},
   "outputs": [],
   "source": [
    "crash = pd.read_csv('crash_clean.csv', index_col=0)\n",
    "au_pop = pd.read_csv('AustinPop.csv')"
   ]
  },
  {
   "cell_type": "code",
   "execution_count": 3,
   "metadata": {},
   "outputs": [],
   "source": [
    "crash[\"Crash_Date\"] = pd.to_datetime(crash[\"Crash_Date\"], format= \"%m/%d/%Y\")\n",
    "\n",
    "crash[\"time_segment\"] = np.where((crash[\"Crash_Date\"] <= pd.Timestamp(2014,6,1)),\"before\", \n",
    "                              np.where((crash[\"Crash_Date\"] > pd.Timestamp(2014,6,1)) & (crash[\"Crash_Date\"] <= pd.Timestamp(2016,5,10)), \"entry\",\n",
    "                                       np.where((crash[\"Crash_Date\"] > pd.Timestamp(2016,5,10)) & (crash[\"Crash_Date\"] <= pd.Timestamp(2017,5,29)), \"exit\",\n",
    "                                                np.where((crash[\"Crash_Date\"] > pd.Timestamp(2017,5,29)), \"re-entry\",\n",
    "                                                         \"error\"))))\n",
    "crash[\"uber_present\"] = np.where((crash[\"Crash_Date\"] <= pd.Timestamp(2014,6,1)),0, \n",
    "                              np.where((crash[\"Crash_Date\"] > pd.Timestamp(2014,6,1)) & (crash[\"Crash_Date\"] <= pd.Timestamp(2016,5,10)), 1,\n",
    "                                       np.where((crash[\"Crash_Date\"] > pd.Timestamp(2016,5,10)) & (crash[\"Crash_Date\"] <= pd.Timestamp(2017,5,29)), 0,\n",
    "                                                np.where((crash[\"Crash_Date\"] > pd.Timestamp(2017,5,29)), 1,\n",
    "                                                         \"error\"))))\n",
    "# crash[\"bins\"] = np.where((crash[\"Crash_Date\"] <= dt.date(2010,1,11)),-7, \n",
    "#                       np.where((crash[\"Crash_Date\"] > dt.date(2010,1,12)) & (crash[\"Crash_Date\"] <= dt.date(2011,2,1)), -6,\n",
    "#                           np.where((crash[\"Crash_Date\"] > dt.date(2011,2,1)) & (crash[\"Crash_Date\"] <= dt.date(2012,2,21)), -5,\n",
    "#                               np.where((crash[\"Crash_Date\"] > dt.date(2012,2,21)) & (crash[\"Crash_Date\"] <= dt.date(2013,3,12)), -4,\n",
    "#                                   np.where((crash[\"Crash_Date\"] > dt.date(2013,3,12)) & (crash[\"Crash_Date\"] <= dt.date(2014,4,1)), -3,\n",
    "#                                          np.where((crash[\"Crash_Date\"] > dt.date(2014,4,1)) & (crash[\"Crash_Date\"] <= dt.date(2015,4,21)), -2,\n",
    "#                                             np.where((crash[\"Crash_Date\"] > dt.date(2015,4,21)) & (crash[\"Crash_Date\"] <= dt.date(2016,5,10)), -1,\n",
    "#                                                np.where((crash[\"Crash_Date\"] > dt.date(2016,5,10)) & (crash[\"Crash_Date\"] <= dt.date(2017,5,29)), 0,\n",
    "#                                                     np.where((crash[\"Crash_Date\"] > dt.date(2017,5,29)) & (crash[\"Crash_Date\"] <= dt.date(2018,6,19)), 1,\n",
    "#                                                         np.where((crash[\"Crash_Date\"] > dt.date(2018,6,19)) & (crash[\"Crash_Date\"] <= dt.date(2019,7,9)), 2,\n",
    "#                                                            np.where((crash[\"Crash_Date\"] > dt.date(2019,7,9)) & (crash[\"Crash_Date\"] <= dt.date(2020,7,28)), 3,\n",
    "#                                                                 np.where((crash[\"Crash_Date\"] > dt.date(2020,7,28)), 4,\"error\"))))))))))))"
   ]
  },
  {
   "cell_type": "code",
   "execution_count": 4,
   "metadata": {},
   "outputs": [],
   "source": [
    "crash_gb = crash[['Crash_ID','Crash_Date']]"
   ]
  },
  {
   "cell_type": "code",
   "execution_count": 5,
   "metadata": {},
   "outputs": [],
   "source": [
    "crash_gb = crash_gb.set_index('Crash_Date')"
   ]
  },
  {
   "cell_type": "code",
   "execution_count": 6,
   "metadata": {},
   "outputs": [],
   "source": [
    "annual_crash_numbers = crash_gb.resample('Y').count()"
   ]
  },
  {
   "cell_type": "code",
   "execution_count": 7,
   "metadata": {},
   "outputs": [],
   "source": [
    "ann_crashes_normalized = annual_crash_numbers\n",
    "ann_crashes_normalized = ann_crashes_normalized.reset_index()"
   ]
  },
  {
   "cell_type": "code",
   "execution_count": 8,
   "metadata": {},
   "outputs": [],
   "source": [
    "ann_crashes_normalized['Crash_ID'] = ann_crashes_normalized['Crash_ID']/au_pop['Population']"
   ]
  },
  {
   "cell_type": "code",
   "execution_count": 9,
   "metadata": {},
   "outputs": [],
   "source": [
    "ann_crashes_normalized = ann_crashes_normalized.rename({'Crash_ID' : 'Crashes per Person'}, axis='columns')"
   ]
  },
  {
   "cell_type": "code",
   "execution_count": 10,
   "metadata": {
    "scrolled": false
   },
   "outputs": [],
   "source": [
    "# plt.figure(num=None, figsize=(10,10), dpi=80, facecolor='w', edgecolor='k')\n",
    "\n",
    "# plt.plot(ann_crashes_normalized['Crash_Date'][:-2],ann_crashes_normalized['Crashes per Person'][:-2],marker=\"o\")\n",
    "\n",
    "# #plt.annotate(dt.date(2014,6,1), dt.date(2016,5,10)):\n",
    "# plt.annotate(\"Uber Enters Austin Market\", xy=(dt.date(2014,6,1),0.0162), xycoords='data',\n",
    "#             bbox=dict(boxstyle=\"round\", fc=\"none\", ec=\"gray\"),\n",
    "#             xytext=(-60, -40), textcoords='offset points', ha='center',\n",
    "#             arrowprops=dict(arrowstyle=\"->\"))\n",
    "\n",
    "# plt.annotate(\"Uber Leaves Austin Market\", xy=(dt.date(2016,5,1),0.0174), xycoords='data',\n",
    "#             bbox=dict(boxstyle=\"round\", fc=\"none\", ec=\"gray\"),\n",
    "#             xytext=(50, -80), textcoords='offset points', ha='center',\n",
    "#             arrowprops=dict(arrowstyle=\"->\"))\n",
    "\n",
    "\n",
    "# plt.annotate(\"Uber Returns\", xy=(dt.date(2017,5,29),0.018), xycoords='data',\n",
    "#             bbox=dict(boxstyle=\"round\", fc=\"none\", ec=\"gray\"),\n",
    "#             xytext=(30,20), textcoords='offset points', ha='center',\n",
    "#             arrowprops=dict(arrowstyle=\"->\"))"
   ]
  },
  {
   "cell_type": "markdown",
   "metadata": {},
   "source": [
    "## Analyzing Location of crashes at different time periods"
   ]
  },
  {
   "cell_type": "code",
   "execution_count": 11,
   "metadata": {},
   "outputs": [
    {
     "data": {
      "text/html": [
       "<div>\n",
       "<style scoped>\n",
       "    .dataframe tbody tr th:only-of-type {\n",
       "        vertical-align: middle;\n",
       "    }\n",
       "\n",
       "    .dataframe tbody tr th {\n",
       "        vertical-align: top;\n",
       "    }\n",
       "\n",
       "    .dataframe thead th {\n",
       "        text-align: right;\n",
       "    }\n",
       "</style>\n",
       "<table border=\"1\" class=\"dataframe\">\n",
       "  <thead>\n",
       "    <tr style=\"text-align: right;\">\n",
       "      <th></th>\n",
       "      <th>months_in_segment</th>\n",
       "      <th>time_segment</th>\n",
       "    </tr>\n",
       "  </thead>\n",
       "  <tbody>\n",
       "    <tr>\n",
       "      <th>before</th>\n",
       "      <td>52.5</td>\n",
       "      <td>before</td>\n",
       "    </tr>\n",
       "    <tr>\n",
       "      <th>entry</th>\n",
       "      <td>23.0</td>\n",
       "      <td>entry</td>\n",
       "    </tr>\n",
       "    <tr>\n",
       "      <th>exit</th>\n",
       "      <td>12.5</td>\n",
       "      <td>exit</td>\n",
       "    </tr>\n",
       "    <tr>\n",
       "      <th>re-entry</th>\n",
       "      <td>27.5</td>\n",
       "      <td>re-entry</td>\n",
       "    </tr>\n",
       "  </tbody>\n",
       "</table>\n",
       "</div>"
      ],
      "text/plain": [
       "          months_in_segment time_segment\n",
       "before                 52.5       before\n",
       "entry                  23.0        entry\n",
       "exit                   12.5         exit\n",
       "re-entry               27.5     re-entry"
      ]
     },
     "execution_count": 11,
     "metadata": {},
     "output_type": "execute_result"
    }
   ],
   "source": [
    "#Set up time_segment # of months\n",
    "\n",
    "cols = [\"before\", \"entry\", \"exit\", \"re-entry\"]\n",
    "seg_months = [52.5, 23, 12.5, 27.5]\n",
    "\n",
    "df_time_segment_months = pd.DataFrame([seg_months])\n",
    "df_time_segment_months.columns =cols\n",
    "df_time_segment_months = df_time_segment_months.T\n",
    "df_time_segment_months.columns = [\"months_in_segment\"]\n",
    "df_time_segment_months[\"time_segment\"] = df_time_segment_months.index\n",
    "df_time_segment_months.head()"
   ]
  },
  {
   "cell_type": "code",
   "execution_count": 12,
   "metadata": {},
   "outputs": [
    {
     "data": {
      "text/html": [
       "<div>\n",
       "<style scoped>\n",
       "    .dataframe tbody tr th:only-of-type {\n",
       "        vertical-align: middle;\n",
       "    }\n",
       "\n",
       "    .dataframe tbody tr th {\n",
       "        vertical-align: top;\n",
       "    }\n",
       "\n",
       "    .dataframe thead th {\n",
       "        text-align: right;\n",
       "    }\n",
       "</style>\n",
       "<table border=\"1\" class=\"dataframe\">\n",
       "  <thead>\n",
       "    <tr style=\"text-align: right;\">\n",
       "      <th></th>\n",
       "      <th>Year</th>\n",
       "      <th>Month</th>\n",
       "      <th>Population</th>\n",
       "    </tr>\n",
       "  </thead>\n",
       "  <tbody>\n",
       "    <tr>\n",
       "      <th>0</th>\n",
       "      <td>2010</td>\n",
       "      <td>1</td>\n",
       "      <td>797593</td>\n",
       "    </tr>\n",
       "    <tr>\n",
       "      <th>1</th>\n",
       "      <td>2010</td>\n",
       "      <td>2</td>\n",
       "      <td>799287</td>\n",
       "    </tr>\n",
       "    <tr>\n",
       "      <th>2</th>\n",
       "      <td>2010</td>\n",
       "      <td>3</td>\n",
       "      <td>800998</td>\n",
       "    </tr>\n",
       "    <tr>\n",
       "      <th>3</th>\n",
       "      <td>2010</td>\n",
       "      <td>4</td>\n",
       "      <td>802767</td>\n",
       "    </tr>\n",
       "    <tr>\n",
       "      <th>4</th>\n",
       "      <td>2010</td>\n",
       "      <td>5</td>\n",
       "      <td>804584</td>\n",
       "    </tr>\n",
       "  </tbody>\n",
       "</table>\n",
       "</div>"
      ],
      "text/plain": [
       "   Year  Month  Population\n",
       "0  2010      1      797593\n",
       "1  2010      2      799287\n",
       "2  2010      3      800998\n",
       "3  2010      4      802767\n",
       "4  2010      5      804584"
      ]
     },
     "execution_count": 12,
     "metadata": {},
     "output_type": "execute_result"
    }
   ],
   "source": [
    "#import population for normalization\n",
    "df_pop = pd.read_csv(\"AustinMonthlyPop.csv\")\n",
    "df_pop.rename(columns={\"Unnamed: 1\":\"Month\"}, inplace=True)\n",
    "df_pop.head()"
   ]
  },
  {
   "cell_type": "code",
   "execution_count": 13,
   "metadata": {},
   "outputs": [],
   "source": [
    "#Merge dataframe with population and normalize\n",
    "df_heatmap = crash[[\"Latitude\",\"Longitude\", \"time_segment\",\"Crash_Date\", \"Crash_Time\"]].copy()\n",
    "df_heatmap[\"Month\"] = pd.DatetimeIndex(df_heatmap['Crash_Date']).month\n",
    "df_heatmap[\"Year\"] = pd.DatetimeIndex(df_heatmap['Crash_Date']).year\n",
    "df_heatmap = df_heatmap.merge(df_pop, on=[\"Year\", \"Month\"], how=\"left\")\n",
    "df_heatmap[\"Crash_Norm\"] = 1/(df_heatmap[\"Population\"]/10**3) #Convert to crashes per thousand people\n",
    "\n",
    "#Merge df with segmentation before, entry, exit, re-entry \n",
    "df_heatmap = df_heatmap.merge(df_time_segment_months, on=\"time_segment\", how=\"left\")\n",
    "\n",
    "#Create a population normalized and annualized value for each crash for aggregation below\n",
    "#Value is crash per 1,000 residents per months in time segment (for annualization)\n",
    "df_heatmap[\"Crash_Norm_Annual\"] = df_heatmap[\"Crash_Norm\"] / (df_heatmap[\"months_in_segment\"]/12) #Annualize data"
   ]
  },
  {
   "cell_type": "code",
   "execution_count": 14,
   "metadata": {},
   "outputs": [
    {
     "data": {
      "text/html": [
       "<div>\n",
       "<style scoped>\n",
       "    .dataframe tbody tr th:only-of-type {\n",
       "        vertical-align: middle;\n",
       "    }\n",
       "\n",
       "    .dataframe tbody tr th {\n",
       "        vertical-align: top;\n",
       "    }\n",
       "\n",
       "    .dataframe thead th {\n",
       "        text-align: right;\n",
       "    }\n",
       "</style>\n",
       "<table border=\"1\" class=\"dataframe\">\n",
       "  <thead>\n",
       "    <tr style=\"text-align: right;\">\n",
       "      <th></th>\n",
       "      <th>Latitude</th>\n",
       "      <th>Longitude</th>\n",
       "      <th>time_segment</th>\n",
       "      <th>Crash_Date</th>\n",
       "      <th>Crash_Time</th>\n",
       "      <th>Month</th>\n",
       "      <th>Year</th>\n",
       "      <th>Population</th>\n",
       "      <th>Crash_Norm</th>\n",
       "      <th>months_in_segment</th>\n",
       "      <th>Crash_Norm_Annual</th>\n",
       "    </tr>\n",
       "  </thead>\n",
       "  <tbody>\n",
       "    <tr>\n",
       "      <th>0</th>\n",
       "      <td>30.376001</td>\n",
       "      <td>-97.673639</td>\n",
       "      <td>before</td>\n",
       "      <td>2010-01-15</td>\n",
       "      <td>12:06 PM</td>\n",
       "      <td>1</td>\n",
       "      <td>2010</td>\n",
       "      <td>797593</td>\n",
       "      <td>0.001254</td>\n",
       "      <td>52.5</td>\n",
       "      <td>0.000287</td>\n",
       "    </tr>\n",
       "    <tr>\n",
       "      <th>1</th>\n",
       "      <td>30.307715</td>\n",
       "      <td>-97.726472</td>\n",
       "      <td>before</td>\n",
       "      <td>2010-01-15</td>\n",
       "      <td>04:32 PM</td>\n",
       "      <td>1</td>\n",
       "      <td>2010</td>\n",
       "      <td>797593</td>\n",
       "      <td>0.001254</td>\n",
       "      <td>52.5</td>\n",
       "      <td>0.000287</td>\n",
       "    </tr>\n",
       "    <tr>\n",
       "      <th>2</th>\n",
       "      <td>30.265225</td>\n",
       "      <td>-97.740032</td>\n",
       "      <td>before</td>\n",
       "      <td>2010-01-13</td>\n",
       "      <td>06:38 PM</td>\n",
       "      <td>1</td>\n",
       "      <td>2010</td>\n",
       "      <td>797593</td>\n",
       "      <td>0.001254</td>\n",
       "      <td>52.5</td>\n",
       "      <td>0.000287</td>\n",
       "    </tr>\n",
       "    <tr>\n",
       "      <th>3</th>\n",
       "      <td>30.300115</td>\n",
       "      <td>-97.732672</td>\n",
       "      <td>before</td>\n",
       "      <td>2010-01-13</td>\n",
       "      <td>03:47 PM</td>\n",
       "      <td>1</td>\n",
       "      <td>2010</td>\n",
       "      <td>797593</td>\n",
       "      <td>0.001254</td>\n",
       "      <td>52.5</td>\n",
       "      <td>0.000287</td>\n",
       "    </tr>\n",
       "    <tr>\n",
       "      <th>4</th>\n",
       "      <td>30.292341</td>\n",
       "      <td>-97.721250</td>\n",
       "      <td>before</td>\n",
       "      <td>2010-01-12</td>\n",
       "      <td>04:51 PM</td>\n",
       "      <td>1</td>\n",
       "      <td>2010</td>\n",
       "      <td>797593</td>\n",
       "      <td>0.001254</td>\n",
       "      <td>52.5</td>\n",
       "      <td>0.000287</td>\n",
       "    </tr>\n",
       "  </tbody>\n",
       "</table>\n",
       "</div>"
      ],
      "text/plain": [
       "    Latitude  Longitude time_segment Crash_Date Crash_Time  Month  Year  \\\n",
       "0  30.376001 -97.673639       before 2010-01-15   12:06 PM      1  2010   \n",
       "1  30.307715 -97.726472       before 2010-01-15   04:32 PM      1  2010   \n",
       "2  30.265225 -97.740032       before 2010-01-13   06:38 PM      1  2010   \n",
       "3  30.300115 -97.732672       before 2010-01-13   03:47 PM      1  2010   \n",
       "4  30.292341 -97.721250       before 2010-01-12   04:51 PM      1  2010   \n",
       "\n",
       "   Population  Crash_Norm  months_in_segment  Crash_Norm_Annual  \n",
       "0      797593    0.001254               52.5           0.000287  \n",
       "1      797593    0.001254               52.5           0.000287  \n",
       "2      797593    0.001254               52.5           0.000287  \n",
       "3      797593    0.001254               52.5           0.000287  \n",
       "4      797593    0.001254               52.5           0.000287  "
      ]
     },
     "execution_count": 14,
     "metadata": {},
     "output_type": "execute_result"
    }
   ],
   "source": [
    "df_heatmap.head()"
   ]
  },
  {
   "cell_type": "code",
   "execution_count": 15,
   "metadata": {},
   "outputs": [],
   "source": [
    "#Select relevant columns\n",
    "df_heatmap_output = df_heatmap[[\"Latitude\", \"Longitude\", \"time_segment\", \"Crash_Date\", \"Crash_Time\", \"Crash_Norm_Annual\"]]\n",
    "df_heatmap_output = df_heatmap_output.dropna()\n",
    "\n",
    "#Export for data exploration in Tableau\n",
    "# df_heatmap_output.to_csv(\"Normalized Crash Data for Heatmap\")"
   ]
  },
  {
   "cell_type": "code",
   "execution_count": 16,
   "metadata": {},
   "outputs": [],
   "source": [
    "#Round to a higher lat long\n",
    "def rounder_3(x):\n",
    "    return round(x,3)\n",
    "\n",
    "def rounder_2(x):\n",
    "    return round(x,2)\n",
    "\n",
    "def rounder_1(x):\n",
    "    return round(x,1)"
   ]
  },
  {
   "cell_type": "code",
   "execution_count": 17,
   "metadata": {},
   "outputs": [
    {
     "data": {
      "text/html": [
       "<div>\n",
       "<style scoped>\n",
       "    .dataframe tbody tr th:only-of-type {\n",
       "        vertical-align: middle;\n",
       "    }\n",
       "\n",
       "    .dataframe tbody tr th {\n",
       "        vertical-align: top;\n",
       "    }\n",
       "\n",
       "    .dataframe thead th {\n",
       "        text-align: right;\n",
       "    }\n",
       "</style>\n",
       "<table border=\"1\" class=\"dataframe\">\n",
       "  <thead>\n",
       "    <tr style=\"text-align: right;\">\n",
       "      <th></th>\n",
       "      <th>Latitude</th>\n",
       "      <th>Longitude</th>\n",
       "      <th>time_segment</th>\n",
       "      <th>Crash_Date</th>\n",
       "      <th>Crash_Time</th>\n",
       "      <th>Crash_Norm_Annual</th>\n",
       "      <th>lat_3</th>\n",
       "      <th>lat_2</th>\n",
       "      <th>lat_1</th>\n",
       "      <th>lon_3</th>\n",
       "      <th>lon_2</th>\n",
       "      <th>lon_1</th>\n",
       "    </tr>\n",
       "  </thead>\n",
       "  <tbody>\n",
       "    <tr>\n",
       "      <th>0</th>\n",
       "      <td>30.376001</td>\n",
       "      <td>-97.673639</td>\n",
       "      <td>before</td>\n",
       "      <td>2010-01-15</td>\n",
       "      <td>12:06 PM</td>\n",
       "      <td>0.000287</td>\n",
       "      <td>30.376</td>\n",
       "      <td>30.38</td>\n",
       "      <td>30.4</td>\n",
       "      <td>-97.674</td>\n",
       "      <td>-97.67</td>\n",
       "      <td>-97.7</td>\n",
       "    </tr>\n",
       "    <tr>\n",
       "      <th>1</th>\n",
       "      <td>30.307715</td>\n",
       "      <td>-97.726472</td>\n",
       "      <td>before</td>\n",
       "      <td>2010-01-15</td>\n",
       "      <td>04:32 PM</td>\n",
       "      <td>0.000287</td>\n",
       "      <td>30.308</td>\n",
       "      <td>30.31</td>\n",
       "      <td>30.3</td>\n",
       "      <td>-97.726</td>\n",
       "      <td>-97.73</td>\n",
       "      <td>-97.7</td>\n",
       "    </tr>\n",
       "    <tr>\n",
       "      <th>2</th>\n",
       "      <td>30.265225</td>\n",
       "      <td>-97.740032</td>\n",
       "      <td>before</td>\n",
       "      <td>2010-01-13</td>\n",
       "      <td>06:38 PM</td>\n",
       "      <td>0.000287</td>\n",
       "      <td>30.265</td>\n",
       "      <td>30.27</td>\n",
       "      <td>30.3</td>\n",
       "      <td>-97.740</td>\n",
       "      <td>-97.74</td>\n",
       "      <td>-97.7</td>\n",
       "    </tr>\n",
       "    <tr>\n",
       "      <th>3</th>\n",
       "      <td>30.300115</td>\n",
       "      <td>-97.732672</td>\n",
       "      <td>before</td>\n",
       "      <td>2010-01-13</td>\n",
       "      <td>03:47 PM</td>\n",
       "      <td>0.000287</td>\n",
       "      <td>30.300</td>\n",
       "      <td>30.30</td>\n",
       "      <td>30.3</td>\n",
       "      <td>-97.733</td>\n",
       "      <td>-97.73</td>\n",
       "      <td>-97.7</td>\n",
       "    </tr>\n",
       "    <tr>\n",
       "      <th>4</th>\n",
       "      <td>30.292341</td>\n",
       "      <td>-97.721250</td>\n",
       "      <td>before</td>\n",
       "      <td>2010-01-12</td>\n",
       "      <td>04:51 PM</td>\n",
       "      <td>0.000287</td>\n",
       "      <td>30.292</td>\n",
       "      <td>30.29</td>\n",
       "      <td>30.3</td>\n",
       "      <td>-97.721</td>\n",
       "      <td>-97.72</td>\n",
       "      <td>-97.7</td>\n",
       "    </tr>\n",
       "  </tbody>\n",
       "</table>\n",
       "</div>"
      ],
      "text/plain": [
       "    Latitude  Longitude time_segment Crash_Date Crash_Time  Crash_Norm_Annual  \\\n",
       "0  30.376001 -97.673639       before 2010-01-15   12:06 PM           0.000287   \n",
       "1  30.307715 -97.726472       before 2010-01-15   04:32 PM           0.000287   \n",
       "2  30.265225 -97.740032       before 2010-01-13   06:38 PM           0.000287   \n",
       "3  30.300115 -97.732672       before 2010-01-13   03:47 PM           0.000287   \n",
       "4  30.292341 -97.721250       before 2010-01-12   04:51 PM           0.000287   \n",
       "\n",
       "    lat_3  lat_2  lat_1   lon_3  lon_2  lon_1  \n",
       "0  30.376  30.38   30.4 -97.674 -97.67  -97.7  \n",
       "1  30.308  30.31   30.3 -97.726 -97.73  -97.7  \n",
       "2  30.265  30.27   30.3 -97.740 -97.74  -97.7  \n",
       "3  30.300  30.30   30.3 -97.733 -97.73  -97.7  \n",
       "4  30.292  30.29   30.3 -97.721 -97.72  -97.7  "
      ]
     },
     "execution_count": 17,
     "metadata": {},
     "output_type": "execute_result"
    }
   ],
   "source": [
    "#create rounded latitudes and longitudes\n",
    "df_heatmap_output[\"lat_3\"] = df_heatmap_output[\"Latitude\"].apply(rounder_3)\n",
    "df_heatmap_output[\"lat_2\"] = df_heatmap_output[\"Latitude\"].apply(rounder_2)\n",
    "df_heatmap_output[\"lat_1\"] = df_heatmap_output[\"Latitude\"].apply(rounder_1)\n",
    "\n",
    "df_heatmap_output[\"lon_3\"] = df_heatmap_output[\"Longitude\"].apply(rounder_3)\n",
    "df_heatmap_output[\"lon_2\"] = df_heatmap_output[\"Longitude\"].apply(rounder_2)\n",
    "df_heatmap_output[\"lon_1\"] = df_heatmap_output[\"Longitude\"].apply(rounder_1)\n",
    "\n",
    "df_heatmap_output.head()"
   ]
  },
  {
   "cell_type": "code",
   "execution_count": 18,
   "metadata": {},
   "outputs": [
    {
     "data": {
      "text/html": [
       "<div>\n",
       "<style scoped>\n",
       "    .dataframe tbody tr th:only-of-type {\n",
       "        vertical-align: middle;\n",
       "    }\n",
       "\n",
       "    .dataframe tbody tr th {\n",
       "        vertical-align: top;\n",
       "    }\n",
       "\n",
       "    .dataframe thead th {\n",
       "        text-align: right;\n",
       "    }\n",
       "</style>\n",
       "<table border=\"1\" class=\"dataframe\">\n",
       "  <thead>\n",
       "    <tr style=\"text-align: right;\">\n",
       "      <th>time_segment</th>\n",
       "      <th>lat_2</th>\n",
       "      <th>lon_2</th>\n",
       "      <th>before</th>\n",
       "      <th>entry</th>\n",
       "      <th>exit</th>\n",
       "      <th>re-entry</th>\n",
       "    </tr>\n",
       "  </thead>\n",
       "  <tbody>\n",
       "    <tr>\n",
       "      <th>0</th>\n",
       "      <td>30.10</td>\n",
       "      <td>-97.81</td>\n",
       "      <td>0.004110</td>\n",
       "      <td>0.003966</td>\n",
       "      <td>0.011168</td>\n",
       "      <td>0.008554</td>\n",
       "    </tr>\n",
       "    <tr>\n",
       "      <th>1</th>\n",
       "      <td>30.11</td>\n",
       "      <td>-97.81</td>\n",
       "      <td>0.011174</td>\n",
       "      <td>0.028268</td>\n",
       "      <td>0.032476</td>\n",
       "      <td>0.032336</td>\n",
       "    </tr>\n",
       "    <tr>\n",
       "      <th>2</th>\n",
       "      <td>30.11</td>\n",
       "      <td>-97.80</td>\n",
       "      <td>0.000254</td>\n",
       "      <td>0.000570</td>\n",
       "      <td>0.001019</td>\n",
       "      <td>0.000000</td>\n",
       "    </tr>\n",
       "    <tr>\n",
       "      <th>3</th>\n",
       "      <td>30.11</td>\n",
       "      <td>-97.79</td>\n",
       "      <td>0.000538</td>\n",
       "      <td>0.003381</td>\n",
       "      <td>0.002028</td>\n",
       "      <td>0.004053</td>\n",
       "    </tr>\n",
       "    <tr>\n",
       "      <th>4</th>\n",
       "      <td>30.12</td>\n",
       "      <td>-97.81</td>\n",
       "      <td>0.000814</td>\n",
       "      <td>0.001693</td>\n",
       "      <td>0.002033</td>\n",
       "      <td>0.004984</td>\n",
       "    </tr>\n",
       "  </tbody>\n",
       "</table>\n",
       "</div>"
      ],
      "text/plain": [
       "time_segment  lat_2  lon_2    before     entry      exit  re-entry\n",
       "0             30.10 -97.81  0.004110  0.003966  0.011168  0.008554\n",
       "1             30.11 -97.81  0.011174  0.028268  0.032476  0.032336\n",
       "2             30.11 -97.80  0.000254  0.000570  0.001019  0.000000\n",
       "3             30.11 -97.79  0.000538  0.003381  0.002028  0.004053\n",
       "4             30.12 -97.81  0.000814  0.001693  0.002033  0.004984"
      ]
     },
     "execution_count": 18,
     "metadata": {},
     "output_type": "execute_result"
    }
   ],
   "source": [
    "#create columns from time_segment so can take difference between lat_2 lon_2's\n",
    "\n",
    "df_heatmap_output = df_heatmap_output.groupby([\"lat_2\", \"lon_2\", \"time_segment\"])[[\"Crash_Norm_Annual\"]].sum().reset_index()\n",
    "\n",
    "df_heatmap_changes = df_heatmap_output.pivot_table(values='Crash_Norm_Annual', index=['lat_2', 'lon_2'], \n",
    "                                                   columns=\"time_segment\").reset_index().fillna(0)\n",
    "df_heatmap_changes.head()"
   ]
  },
  {
   "cell_type": "code",
   "execution_count": 19,
   "metadata": {},
   "outputs": [
    {
     "data": {
      "text/html": [
       "<div>\n",
       "<style scoped>\n",
       "    .dataframe tbody tr th:only-of-type {\n",
       "        vertical-align: middle;\n",
       "    }\n",
       "\n",
       "    .dataframe tbody tr th {\n",
       "        vertical-align: top;\n",
       "    }\n",
       "\n",
       "    .dataframe thead th {\n",
       "        text-align: right;\n",
       "    }\n",
       "</style>\n",
       "<table border=\"1\" class=\"dataframe\">\n",
       "  <thead>\n",
       "    <tr style=\"text-align: right;\">\n",
       "      <th>time_segment</th>\n",
       "      <th>lat_2</th>\n",
       "      <th>lon_2</th>\n",
       "      <th>before</th>\n",
       "      <th>entry</th>\n",
       "      <th>exit</th>\n",
       "      <th>re-entry</th>\n",
       "      <th>entry_change</th>\n",
       "      <th>exit_change</th>\n",
       "      <th>re-entry_change</th>\n",
       "    </tr>\n",
       "  </thead>\n",
       "  <tbody>\n",
       "    <tr>\n",
       "      <th>0</th>\n",
       "      <td>30.10</td>\n",
       "      <td>-97.81</td>\n",
       "      <td>0.004110</td>\n",
       "      <td>0.003966</td>\n",
       "      <td>0.011168</td>\n",
       "      <td>0.008554</td>\n",
       "      <td>-0.000144</td>\n",
       "      <td>0.007058</td>\n",
       "      <td>0.004445</td>\n",
       "    </tr>\n",
       "    <tr>\n",
       "      <th>1</th>\n",
       "      <td>30.11</td>\n",
       "      <td>-97.81</td>\n",
       "      <td>0.011174</td>\n",
       "      <td>0.028268</td>\n",
       "      <td>0.032476</td>\n",
       "      <td>0.032336</td>\n",
       "      <td>0.017093</td>\n",
       "      <td>0.021301</td>\n",
       "      <td>0.021161</td>\n",
       "    </tr>\n",
       "    <tr>\n",
       "      <th>2</th>\n",
       "      <td>30.11</td>\n",
       "      <td>-97.80</td>\n",
       "      <td>0.000254</td>\n",
       "      <td>0.000570</td>\n",
       "      <td>0.001019</td>\n",
       "      <td>0.000000</td>\n",
       "      <td>0.000316</td>\n",
       "      <td>0.000765</td>\n",
       "      <td>-0.000254</td>\n",
       "    </tr>\n",
       "    <tr>\n",
       "      <th>3</th>\n",
       "      <td>30.11</td>\n",
       "      <td>-97.79</td>\n",
       "      <td>0.000538</td>\n",
       "      <td>0.003381</td>\n",
       "      <td>0.002028</td>\n",
       "      <td>0.004053</td>\n",
       "      <td>0.002843</td>\n",
       "      <td>0.001490</td>\n",
       "      <td>0.003515</td>\n",
       "    </tr>\n",
       "    <tr>\n",
       "      <th>4</th>\n",
       "      <td>30.12</td>\n",
       "      <td>-97.81</td>\n",
       "      <td>0.000814</td>\n",
       "      <td>0.001693</td>\n",
       "      <td>0.002033</td>\n",
       "      <td>0.004984</td>\n",
       "      <td>0.000879</td>\n",
       "      <td>0.001220</td>\n",
       "      <td>0.004171</td>\n",
       "    </tr>\n",
       "  </tbody>\n",
       "</table>\n",
       "</div>"
      ],
      "text/plain": [
       "time_segment  lat_2  lon_2    before     entry      exit  re-entry  \\\n",
       "0             30.10 -97.81  0.004110  0.003966  0.011168  0.008554   \n",
       "1             30.11 -97.81  0.011174  0.028268  0.032476  0.032336   \n",
       "2             30.11 -97.80  0.000254  0.000570  0.001019  0.000000   \n",
       "3             30.11 -97.79  0.000538  0.003381  0.002028  0.004053   \n",
       "4             30.12 -97.81  0.000814  0.001693  0.002033  0.004984   \n",
       "\n",
       "time_segment  entry_change  exit_change  re-entry_change  \n",
       "0                -0.000144     0.007058         0.004445  \n",
       "1                 0.017093     0.021301         0.021161  \n",
       "2                 0.000316     0.000765        -0.000254  \n",
       "3                 0.002843     0.001490         0.003515  \n",
       "4                 0.000879     0.001220         0.004171  "
      ]
     },
     "execution_count": 19,
     "metadata": {},
     "output_type": "execute_result"
    }
   ],
   "source": [
    "#calc differences between time periods\n",
    "df_heatmap_changes[\"entry_change\"] = df_heatmap_changes[\"entry\"] - df_heatmap_changes[\"before\"]\n",
    "df_heatmap_changes[\"exit_change\"] = df_heatmap_changes[\"exit\"] - df_heatmap_changes[\"before\"]\n",
    "df_heatmap_changes[\"re-entry_change\"] = df_heatmap_changes[\"re-entry\"] - df_heatmap_changes[\"before\"]\n",
    "df_heatmap_changes.head()"
   ]
  },
  {
   "cell_type": "code",
   "execution_count": 20,
   "metadata": {},
   "outputs": [],
   "source": [
    "#Export for Tableua\n",
    "df_heatmap_changes.to_csv(\"normalized_crash_data_heatmap_withchanges\")"
   ]
  },
  {
   "cell_type": "code",
   "execution_count": 21,
   "metadata": {},
   "outputs": [
    {
     "data": {
      "text/html": [
       "<div>\n",
       "<style scoped>\n",
       "    .dataframe tbody tr th:only-of-type {\n",
       "        vertical-align: middle;\n",
       "    }\n",
       "\n",
       "    .dataframe tbody tr th {\n",
       "        vertical-align: top;\n",
       "    }\n",
       "\n",
       "    .dataframe thead th {\n",
       "        text-align: right;\n",
       "    }\n",
       "</style>\n",
       "<table border=\"1\" class=\"dataframe\">\n",
       "  <thead>\n",
       "    <tr style=\"text-align: right;\">\n",
       "      <th>time_segment</th>\n",
       "      <th>before</th>\n",
       "      <th>entry_change</th>\n",
       "      <th>exit_change</th>\n",
       "      <th>re-entry_change</th>\n",
       "    </tr>\n",
       "  </thead>\n",
       "  <tbody>\n",
       "    <tr>\n",
       "      <th>281</th>\n",
       "      <td>0.167654</td>\n",
       "      <td>0.011612</td>\n",
       "      <td>0.049721</td>\n",
       "      <td>0.034443</td>\n",
       "    </tr>\n",
       "    <tr>\n",
       "      <th>296</th>\n",
       "      <td>0.144533</td>\n",
       "      <td>-0.021287</td>\n",
       "      <td>0.013953</td>\n",
       "      <td>-0.013325</td>\n",
       "    </tr>\n",
       "    <tr>\n",
       "      <th>297</th>\n",
       "      <td>0.242769</td>\n",
       "      <td>-0.037783</td>\n",
       "      <td>-0.019238</td>\n",
       "      <td>-0.044290</td>\n",
       "    </tr>\n",
       "    <tr>\n",
       "      <th>313</th>\n",
       "      <td>0.077367</td>\n",
       "      <td>-0.021266</td>\n",
       "      <td>-0.010263</td>\n",
       "      <td>-0.018543</td>\n",
       "    </tr>\n",
       "    <tr>\n",
       "      <th>314</th>\n",
       "      <td>0.123991</td>\n",
       "      <td>-0.008805</td>\n",
       "      <td>0.020280</td>\n",
       "      <td>0.023551</td>\n",
       "    </tr>\n",
       "  </tbody>\n",
       "</table>\n",
       "</div>"
      ],
      "text/plain": [
       "time_segment    before  entry_change  exit_change  re-entry_change\n",
       "281           0.167654      0.011612     0.049721         0.034443\n",
       "296           0.144533     -0.021287     0.013953        -0.013325\n",
       "297           0.242769     -0.037783    -0.019238        -0.044290\n",
       "313           0.077367     -0.021266    -0.010263        -0.018543\n",
       "314           0.123991     -0.008805     0.020280         0.023551"
      ]
     },
     "execution_count": 21,
     "metadata": {},
     "output_type": "execute_result"
    }
   ],
   "source": [
    "#Sum up downton lat lons\n",
    "df_heatmap_changes[\"lat_lon_concat\"] = df_heatmap_changes[\"lat_2\"].map(str) + \", \" + df_heatmap_changes[\"lon_2\"].map(str)\n",
    "\n",
    "downtown = [\"30.28, -97.75\", \"30.27, -97.75\", \"30.26, -97.74\", \"30.27, -97.74\", \"30.28, -97.74\"]\n",
    "df_heatmap_downtown = df_heatmap_changes.loc[(df_heatmap_changes['lat_lon_concat'] == downtown[0]) |\n",
    "                                            (df_heatmap_changes['lat_lon_concat'] == downtown[1]) |\n",
    "                                            (df_heatmap_changes['lat_lon_concat'] == downtown[2]) |\n",
    "                                             (df_heatmap_changes['lat_lon_concat'] == downtown[3]) |\n",
    "                                             (df_heatmap_changes['lat_lon_concat'] == downtown[4])\n",
    "                                            ] \n",
    "\n",
    "df_heatmap_downtown = df_heatmap_downtown[[\"before\", \"entry_change\", \"exit_change\", \"re-entry_change\"]]\n",
    "df_heatmap_downtown[\"entry_change\"]\n",
    "df_heatmap_downtown.head()"
   ]
  },
  {
   "cell_type": "code",
   "execution_count": 22,
   "metadata": {},
   "outputs": [
    {
     "data": {
      "text/plain": [
       "[-10.250940041120614, 7.199740996322836, -2.4017155009226463]"
      ]
     },
     "execution_count": 22,
     "metadata": {},
     "output_type": "execute_result"
    }
   ],
   "source": [
    "dt_values = []\n",
    "for i in range(3):\n",
    "    percent = (df_heatmap_downtown.sum(axis=0)[i+1] / df_heatmap_downtown.sum(axis=0)[0]) * 100\n",
    "    dt_values.append(percent)\n",
    "dt_values"
   ]
  },
  {
   "cell_type": "code",
   "execution_count": 23,
   "metadata": {},
   "outputs": [
    {
     "data": {
      "image/png": "[encoded data removed]",
      "text/plain": [
       "<Figure size 720x720 with 1 Axes>"
      ]
     },
     "metadata": {
      "needs_background": "light"
     },
     "output_type": "display_data"
    }
   ],
   "source": [
    "plt.figure(figsize=(10, 10))\n",
    "labels = ('Entry Change', 'Exit Change', \"Re-entry Change\")\n",
    "y_pos = np.arange(len(labels))\n",
    "\n",
    "plt.bar(y_pos, dt_values, align='center', alpha=0.5)\n",
    "plt.xticks(y_pos, labels)\n",
    "plt.ylabel('% Change in Volume of Crashes')\n",
    "plt.title('Downtown Crash Volume vs Pre-ridesharing')\n",
    "plt.ylim([-50, 50])\n",
    "plt.show()"
   ]
  },
  {
   "cell_type": "code",
   "execution_count": 24,
   "metadata": {},
   "outputs": [
    {
     "data": {
      "text/html": [
       "<div>\n",
       "<style scoped>\n",
       "    .dataframe tbody tr th:only-of-type {\n",
       "        vertical-align: middle;\n",
       "    }\n",
       "\n",
       "    .dataframe tbody tr th {\n",
       "        vertical-align: top;\n",
       "    }\n",
       "\n",
       "    .dataframe thead th {\n",
       "        text-align: right;\n",
       "    }\n",
       "</style>\n",
       "<table border=\"1\" class=\"dataframe\">\n",
       "  <thead>\n",
       "    <tr style=\"text-align: right;\">\n",
       "      <th>time_segment</th>\n",
       "      <th>before</th>\n",
       "      <th>entry_change</th>\n",
       "      <th>exit_change</th>\n",
       "      <th>re-entry_change</th>\n",
       "    </tr>\n",
       "  </thead>\n",
       "  <tbody>\n",
       "    <tr>\n",
       "      <th>334</th>\n",
       "      <td>0.076546</td>\n",
       "      <td>-0.024879</td>\n",
       "      <td>0.003739</td>\n",
       "      <td>-0.041023</td>\n",
       "    </tr>\n",
       "    <tr>\n",
       "      <th>335</th>\n",
       "      <td>0.092204</td>\n",
       "      <td>-0.030411</td>\n",
       "      <td>-0.033332</td>\n",
       "      <td>-0.014112</td>\n",
       "    </tr>\n",
       "    <tr>\n",
       "      <th>336</th>\n",
       "      <td>0.047774</td>\n",
       "      <td>-0.010450</td>\n",
       "      <td>-0.008173</td>\n",
       "      <td>0.003947</td>\n",
       "    </tr>\n",
       "    <tr>\n",
       "      <th>351</th>\n",
       "      <td>0.027206</td>\n",
       "      <td>-0.011339</td>\n",
       "      <td>-0.009936</td>\n",
       "      <td>-0.009670</td>\n",
       "    </tr>\n",
       "    <tr>\n",
       "      <th>352</th>\n",
       "      <td>0.083823</td>\n",
       "      <td>-0.030580</td>\n",
       "      <td>-0.014790</td>\n",
       "      <td>-0.015496</td>\n",
       "    </tr>\n",
       "    <tr>\n",
       "      <th>353</th>\n",
       "      <td>0.030016</td>\n",
       "      <td>-0.017559</td>\n",
       "      <td>-0.007665</td>\n",
       "      <td>-0.013334</td>\n",
       "    </tr>\n",
       "  </tbody>\n",
       "</table>\n",
       "</div>"
      ],
      "text/plain": [
       "time_segment    before  entry_change  exit_change  re-entry_change\n",
       "334           0.076546     -0.024879     0.003739        -0.041023\n",
       "335           0.092204     -0.030411    -0.033332        -0.014112\n",
       "336           0.047774     -0.010450    -0.008173         0.003947\n",
       "351           0.027206     -0.011339    -0.009936        -0.009670\n",
       "352           0.083823     -0.030580    -0.014790        -0.015496\n",
       "353           0.030016     -0.017559    -0.007665        -0.013334"
      ]
     },
     "execution_count": 24,
     "metadata": {},
     "output_type": "execute_result"
    }
   ],
   "source": [
    "#setup university location\n",
    "university = [\"30.29, -97.75\", \"30.29, -97.74\", \"30.29, -97.73\", \"30.3, -97.73\", \"30.3, -97.74\", \"30.3, -97.75\"]\n",
    "\n",
    "df_heatmap_university = df_heatmap_changes.loc[(df_heatmap_changes['lat_lon_concat'] == university[0]) |\n",
    "                                            (df_heatmap_changes['lat_lon_concat'] == university[1]) |\n",
    "                                            (df_heatmap_changes['lat_lon_concat'] == university[2]) |\n",
    "                                             (df_heatmap_changes['lat_lon_concat'] == university[3]) |\n",
    "                                               (df_heatmap_changes['lat_lon_concat'] == university[4]) |\n",
    "                                             (df_heatmap_changes['lat_lon_concat'] == university[5])\n",
    "                                            ] \n",
    "\n",
    "df_heatmap_university = df_heatmap_university[[\"before\",\"entry_change\", \"exit_change\", \"re-entry_change\"]]\n",
    "df_heatmap_university.head(6)"
   ]
  },
  {
   "cell_type": "code",
   "execution_count": 25,
   "metadata": {},
   "outputs": [
    {
     "data": {
      "text/plain": [
       "[-35.01928395757778, -19.620376749743563, -25.082607664879465]"
      ]
     },
     "execution_count": 25,
     "metadata": {},
     "output_type": "execute_result"
    }
   ],
   "source": [
    "values = []\n",
    "for i in range(3):\n",
    "    percent = (df_heatmap_university.sum(axis=0)[i+1] / df_heatmap_university.sum(axis=0)[0]) * 100\n",
    "    values.append(percent)\n",
    "values"
   ]
  },
  {
   "cell_type": "code",
   "execution_count": 26,
   "metadata": {},
   "outputs": [
    {
     "data": {
      "image/png": "[encoded data removed]",
      "text/plain": [
       "<Figure size 720x720 with 1 Axes>"
      ]
     },
     "metadata": {
      "needs_background": "light"
     },
     "output_type": "display_data"
    }
   ],
   "source": [
    "plt.figure(figsize=(10, 10))\n",
    "labels = ('Entry Change', 'Exit Change', \"Re-entry Change\")\n",
    "y_pos = np.arange(len(labels))\n",
    "\n",
    "plt.bar(y_pos, values, align='center', alpha=0.5)\n",
    "plt.xticks(y_pos, labels)\n",
    "plt.ylabel('% Change in Volume of Crashes')\n",
    "plt.title('College Campus Crash Volume vs Pre-ridesharing')\n",
    "plt.ylim([-50,50])\n",
    "plt.show()"
   ]
  },
  {
   "cell_type": "code",
   "execution_count": 27,
   "metadata": {},
   "outputs": [
    {
     "data": {
      "text/html": [
       "<div>\n",
       "<style scoped>\n",
       "    .dataframe tbody tr th:only-of-type {\n",
       "        vertical-align: middle;\n",
       "    }\n",
       "\n",
       "    .dataframe tbody tr th {\n",
       "        vertical-align: top;\n",
       "    }\n",
       "\n",
       "    .dataframe thead th {\n",
       "        text-align: right;\n",
       "    }\n",
       "</style>\n",
       "<table border=\"1\" class=\"dataframe\">\n",
       "  <thead>\n",
       "    <tr style=\"text-align: right;\">\n",
       "      <th>time_segment</th>\n",
       "      <th>before</th>\n",
       "      <th>entry_change</th>\n",
       "      <th>exit_change</th>\n",
       "      <th>re-entry_change</th>\n",
       "    </tr>\n",
       "  </thead>\n",
       "  <tbody>\n",
       "    <tr>\n",
       "      <th>353</th>\n",
       "      <td>0.030016</td>\n",
       "      <td>-0.017559</td>\n",
       "      <td>-0.007665</td>\n",
       "      <td>-0.013334</td>\n",
       "    </tr>\n",
       "    <tr>\n",
       "      <th>354</th>\n",
       "      <td>0.105230</td>\n",
       "      <td>0.005164</td>\n",
       "      <td>0.013678</td>\n",
       "      <td>-0.011053</td>\n",
       "    </tr>\n",
       "    <tr>\n",
       "      <th>370</th>\n",
       "      <td>0.073596</td>\n",
       "      <td>-0.023212</td>\n",
       "      <td>-0.022805</td>\n",
       "      <td>-0.029478</td>\n",
       "    </tr>\n",
       "    <tr>\n",
       "      <th>371</th>\n",
       "      <td>0.041106</td>\n",
       "      <td>-0.002689</td>\n",
       "      <td>-0.001464</td>\n",
       "      <td>-0.004208</td>\n",
       "    </tr>\n",
       "    <tr>\n",
       "      <th>372</th>\n",
       "      <td>0.050331</td>\n",
       "      <td>-0.010033</td>\n",
       "      <td>-0.002577</td>\n",
       "      <td>-0.003987</td>\n",
       "    </tr>\n",
       "    <tr>\n",
       "      <th>373</th>\n",
       "      <td>0.194204</td>\n",
       "      <td>-0.019559</td>\n",
       "      <td>-0.027550</td>\n",
       "      <td>-0.037066</td>\n",
       "    </tr>\n",
       "    <tr>\n",
       "      <th>389</th>\n",
       "      <td>0.053303</td>\n",
       "      <td>-0.006424</td>\n",
       "      <td>-0.004587</td>\n",
       "      <td>-0.006089</td>\n",
       "    </tr>\n",
       "    <tr>\n",
       "      <th>390</th>\n",
       "      <td>0.030614</td>\n",
       "      <td>0.000486</td>\n",
       "      <td>0.013115</td>\n",
       "      <td>0.001228</td>\n",
       "    </tr>\n",
       "    <tr>\n",
       "      <th>391</th>\n",
       "      <td>0.158848</td>\n",
       "      <td>-0.021355</td>\n",
       "      <td>-0.026655</td>\n",
       "      <td>-0.055514</td>\n",
       "    </tr>\n",
       "  </tbody>\n",
       "</table>\n",
       "</div>"
      ],
      "text/plain": [
       "time_segment    before  entry_change  exit_change  re-entry_change\n",
       "353           0.030016     -0.017559    -0.007665        -0.013334\n",
       "354           0.105230      0.005164     0.013678        -0.011053\n",
       "370           0.073596     -0.023212    -0.022805        -0.029478\n",
       "371           0.041106     -0.002689    -0.001464        -0.004208\n",
       "372           0.050331     -0.010033    -0.002577        -0.003987\n",
       "373           0.194204     -0.019559    -0.027550        -0.037066\n",
       "389           0.053303     -0.006424    -0.004587        -0.006089\n",
       "390           0.030614      0.000486     0.013115         0.001228\n",
       "391           0.158848     -0.021355    -0.026655        -0.055514"
      ]
     },
     "execution_count": 27,
     "metadata": {},
     "output_type": "execute_result"
    }
   ],
   "source": [
    "#setup hyde park location\n",
    "hyde = [\"30.31, -97.74\", \"30.32, -97.73\", \"30.32, -97.72\", \"30.32, -97.71\", \n",
    "        \"30.31, -97.73\", \"30.31, -97.72\", \"30.31, -97.71\", \"30.3, -97.73\", \"30.3, -97.72\"]\n",
    "df_heatmap_hyde = df_heatmap_changes.loc[(df_heatmap_changes['lat_lon_concat'] == hyde[0]) |\n",
    "                                            (df_heatmap_changes['lat_lon_concat'] == hyde[1]) |\n",
    "                                            (df_heatmap_changes['lat_lon_concat'] == hyde[2]) |\n",
    "                                             (df_heatmap_changes['lat_lon_concat'] == hyde[3]) |\n",
    "                                             (df_heatmap_changes['lat_lon_concat'] == hyde[4]) |\n",
    "                                             (df_heatmap_changes['lat_lon_concat'] == hyde[5]) |\n",
    "                                             (df_heatmap_changes['lat_lon_concat'] == hyde[6]) |\n",
    "                                             (df_heatmap_changes['lat_lon_concat'] == hyde[7]) |\n",
    "                                             (df_heatmap_changes['lat_lon_concat'] == hyde[8])\n",
    "                                            ] \n",
    "\n",
    "df_heatmap_hyde = df_heatmap_hyde[[\"before\",\"entry_change\", \"exit_change\", \"re-entry_change\"]]\n",
    "df_heatmap_hyde"
   ]
  },
  {
   "cell_type": "code",
   "execution_count": 28,
   "metadata": {},
   "outputs": [
    {
     "data": {
      "text/html": [
       "<div>\n",
       "<style scoped>\n",
       "    .dataframe tbody tr th:only-of-type {\n",
       "        vertical-align: middle;\n",
       "    }\n",
       "\n",
       "    .dataframe tbody tr th {\n",
       "        vertical-align: top;\n",
       "    }\n",
       "\n",
       "    .dataframe thead th {\n",
       "        text-align: right;\n",
       "    }\n",
       "</style>\n",
       "<table border=\"1\" class=\"dataframe\">\n",
       "  <thead>\n",
       "    <tr style=\"text-align: right;\">\n",
       "      <th>time_segment</th>\n",
       "      <th>lat_2</th>\n",
       "      <th>lon_2</th>\n",
       "      <th>before</th>\n",
       "      <th>entry</th>\n",
       "      <th>exit</th>\n",
       "      <th>re-entry</th>\n",
       "      <th>entry_change</th>\n",
       "      <th>exit_change</th>\n",
       "      <th>re-entry_change</th>\n",
       "      <th>lat_lon_concat</th>\n",
       "    </tr>\n",
       "  </thead>\n",
       "  <tbody>\n",
       "    <tr>\n",
       "      <th>354</th>\n",
       "      <td>30.3</td>\n",
       "      <td>-97.72</td>\n",
       "      <td>0.10523</td>\n",
       "      <td>0.110395</td>\n",
       "      <td>0.118908</td>\n",
       "      <td>0.094178</td>\n",
       "      <td>0.005164</td>\n",
       "      <td>0.013678</td>\n",
       "      <td>-0.011053</td>\n",
       "      <td>30.3, -97.72</td>\n",
       "    </tr>\n",
       "  </tbody>\n",
       "</table>\n",
       "</div>"
      ],
      "text/plain": [
       "time_segment  lat_2  lon_2   before     entry      exit  re-entry  \\\n",
       "354            30.3 -97.72  0.10523  0.110395  0.118908  0.094178   \n",
       "\n",
       "time_segment  entry_change  exit_change  re-entry_change lat_lon_concat  \n",
       "354               0.005164     0.013678        -0.011053   30.3, -97.72  "
      ]
     },
     "execution_count": 28,
     "metadata": {},
     "output_type": "execute_result"
    }
   ],
   "source": [
    "df_heatmap_changes.loc[(df_heatmap_changes['lat_lon_concat'] == hyde[8])]"
   ]
  },
  {
   "cell_type": "code",
   "execution_count": 29,
   "metadata": {},
   "outputs": [
    {
     "data": {
      "text/plain": [
       "[-12.910553251536816, -9.02118511847223, -21.634690975568212]"
      ]
     },
     "execution_count": 29,
     "metadata": {},
     "output_type": "execute_result"
    }
   ],
   "source": [
    "values = []\n",
    "for i in range(3):\n",
    "    percent = (df_heatmap_hyde.sum(axis=0)[i+1] / df_heatmap_hyde.sum(axis=0)[0]) * 100\n",
    "    values.append(percent)\n",
    "values"
   ]
  },
  {
   "cell_type": "code",
   "execution_count": 30,
   "metadata": {},
   "outputs": [
    {
     "data": {
      "image/png": "[encoded data removed]",
      "text/plain": [
       "<Figure size 720x720 with 1 Axes>"
      ]
     },
     "metadata": {
      "needs_background": "light"
     },
     "output_type": "display_data"
    }
   ],
   "source": [
    "plt.figure(figsize=(10, 10))\n",
    "labels = ('Entry Change', 'Exit Change', \"Re-entry Change\")\n",
    "y_pos = np.arange(len(labels))\n",
    "\n",
    "plt.bar(y_pos, values, align='center', alpha=0.5)\n",
    "plt.xticks(y_pos, labels)\n",
    "plt.ylabel('% Change in Volume of Crashes')\n",
    "plt.title('Hyde Park Crash Volume vs Pre-ridesharing')\n",
    "plt.ylim([-50,50])\n",
    "plt.show()"
   ]
  },
  {
   "cell_type": "code",
   "execution_count": 31,
   "metadata": {},
   "outputs": [
    {
     "data": {
      "text/plain": [
       "(23, 4)"
      ]
     },
     "execution_count": 31,
     "metadata": {},
     "output_type": "execute_result"
    }
   ],
   "source": [
    "#Create plots for Zilker and South Congress\n",
    "#setup hyde park location\n",
    "zilker = [\"30.26, -97.78\", \"30.26, -97.77\", \"30.26, -97.76\", \"30.26, -97.75\",\n",
    "       \"30.25, -97.79\", \"30.25, -97.78\", \"30.25, -97.77\", \"30.25, -97.76\", \"30.25, -97.75\", \"30.25, -97.74\",\n",
    "        \"30.24, -97.78\", \"30.24, -97.77\", \"30.24, -97.76\", \"30.24, -97.75\", \"30.24, -97.74\",\n",
    "        \"30.23, -97.8\", \"30.23, -97.79\", \"30.23, -97.78\", \"30.23, -97.77\", \"30.23, -97.76\", \"30.23, -97.75\",\n",
    "        \"30.22, -97.76\", \"30.22, -97.75\"\n",
    "       ]\n",
    "df_heatmap_zilker = df_heatmap_changes.loc[(df_heatmap_changes['lat_lon_concat'] == zilker[0]) |\n",
    "                                            (df_heatmap_changes['lat_lon_concat'] == zilker[1]) |\n",
    "                                            (df_heatmap_changes['lat_lon_concat'] == zilker[2]) |\n",
    "                                             (df_heatmap_changes['lat_lon_concat'] == zilker[3]) |\n",
    "                                             (df_heatmap_changes['lat_lon_concat'] == zilker[4]) |\n",
    "                                             (df_heatmap_changes['lat_lon_concat'] == zilker[5]) |\n",
    "                                             (df_heatmap_changes['lat_lon_concat'] == zilker[6]) |\n",
    "                                             (df_heatmap_changes['lat_lon_concat'] == zilker[7]) |\n",
    "                                             (df_heatmap_changes['lat_lon_concat'] == zilker[8]) |\n",
    "                                             (df_heatmap_changes['lat_lon_concat'] == zilker[9]) |\n",
    "                                             (df_heatmap_changes['lat_lon_concat'] == zilker[10]) |\n",
    "                                             (df_heatmap_changes['lat_lon_concat'] == zilker[11]) |\n",
    "                                             (df_heatmap_changes['lat_lon_concat'] == zilker[12]) |\n",
    "                                             (df_heatmap_changes['lat_lon_concat'] == zilker[13]) |\n",
    "                                             (df_heatmap_changes['lat_lon_concat'] == zilker[14]) |\n",
    "                                             (df_heatmap_changes['lat_lon_concat'] == zilker[15]) |\n",
    "                                             (df_heatmap_changes['lat_lon_concat'] == zilker[16]) |\n",
    "                                             (df_heatmap_changes['lat_lon_concat'] == zilker[17]) |\n",
    "                                             (df_heatmap_changes['lat_lon_concat'] == zilker[18]) |\n",
    "                                             (df_heatmap_changes['lat_lon_concat'] == zilker[19]) |\n",
    "                                             (df_heatmap_changes['lat_lon_concat'] == zilker[20]) |\n",
    "                                             (df_heatmap_changes['lat_lon_concat'] == zilker[21]) |\n",
    "                                             (df_heatmap_changes['lat_lon_concat'] == zilker[22])\n",
    "                                          ] \n",
    "\n",
    "df_heatmap_zilker = df_heatmap_zilker[[\"before\",\"entry_change\", \"exit_change\", \"re-entry_change\"]]\n",
    "df_heatmap_zilker.shape"
   ]
  },
  {
   "cell_type": "code",
   "execution_count": 32,
   "metadata": {},
   "outputs": [
    {
     "data": {
      "text/plain": [
       "[3.3882526663296075, 17.088854680379683, 7.382786130918785]"
      ]
     },
     "execution_count": 32,
     "metadata": {},
     "output_type": "execute_result"
    }
   ],
   "source": [
    "values = []\n",
    "for i in range(3):\n",
    "    percent = (df_heatmap_zilker.sum(axis=0)[i+1] / df_heatmap_zilker.sum(axis=0)[0]) * 100\n",
    "    values.append(percent)\n",
    "values"
   ]
  },
  {
   "cell_type": "code",
   "execution_count": 33,
   "metadata": {},
   "outputs": [
    {
     "data": {
      "image/png": "[encoded data removed]",
      "text/plain": [
       "<Figure size 720x720 with 1 Axes>"
      ]
     },
     "metadata": {
      "needs_background": "light"
     },
     "output_type": "display_data"
    }
   ],
   "source": [
    "plt.figure(figsize=(10, 10))\n",
    "labels = ('Entry Change', 'Exit Change', \"Re-entry Change\")\n",
    "y_pos = np.arange(len(labels))\n",
    "\n",
    "plt.bar(y_pos, values, align='center', alpha=0.5)\n",
    "plt.xticks(y_pos, labels)\n",
    "plt.ylabel('% Change in Volume of Crashes')\n",
    "plt.title('Zilker Crash Volume vs Pre-ridesharing')\n",
    "plt.ylim([-50,50])\n",
    "plt.show()"
   ]
  },
  {
   "cell_type": "code",
   "execution_count": 34,
   "metadata": {},
   "outputs": [
    {
     "data": {
      "text/plain": [
       "(23, 4)"
      ]
     },
     "execution_count": 34,
     "metadata": {},
     "output_type": "execute_result"
    }
   ],
   "source": [
    "#Create plots for Airport\n",
    "#setup airport location\n",
    "airport = [\"30.24, -97.68\", \n",
    "          \"30.23, -97.68\", \"30.23, -97.67\",\n",
    "          \"30.22, -97.68\", \"30.22, -97.67\", \"30.22, -97.66\",\n",
    "          \"30.21, -97.68\", \"30.21, -97.67\", \"30.21, -97.66\", \"30.21, -97.65\",\n",
    "          \"30.2, -97.68\", \"30.2, -97.67\", \"30.2, -97.66\", \"30.2, -97.65\",\n",
    "          \"30.19, -97.68\", \"30.19, -97.67\", \"30.19, -97.66\", \"30.19, -97.65\",\n",
    "          \"30.18, -97.68\", \"30.18, -97.65\",\n",
    "          \"30.17, -97.67\", \"30.17, -97.66\", \"30.17, -97.65\"\n",
    "       ]\n",
    "df_heatmap_airport = df_heatmap_changes.loc[(df_heatmap_changes['lat_lon_concat'] == airport[0]) |\n",
    "                                            (df_heatmap_changes['lat_lon_concat'] == airport[1]) |\n",
    "                                            (df_heatmap_changes['lat_lon_concat'] == airport[2]) |\n",
    "                                             (df_heatmap_changes['lat_lon_concat'] == airport[3]) |\n",
    "                                             (df_heatmap_changes['lat_lon_concat'] == airport[4]) |\n",
    "                                             (df_heatmap_changes['lat_lon_concat'] == airport[5]) |\n",
    "                                             (df_heatmap_changes['lat_lon_concat'] == airport[6]) |\n",
    "                                             (df_heatmap_changes['lat_lon_concat'] == airport[7]) |\n",
    "                                             (df_heatmap_changes['lat_lon_concat'] == airport[8]) |\n",
    "                                             (df_heatmap_changes['lat_lon_concat'] == airport[9]) |\n",
    "                                             (df_heatmap_changes['lat_lon_concat'] == airport[10]) |\n",
    "                                             (df_heatmap_changes['lat_lon_concat'] == airport[11]) |\n",
    "                                             (df_heatmap_changes['lat_lon_concat'] == airport[12]) |\n",
    "                                             (df_heatmap_changes['lat_lon_concat'] == airport[13]) |\n",
    "                                             (df_heatmap_changes['lat_lon_concat'] == airport[14]) |\n",
    "                                             (df_heatmap_changes['lat_lon_concat'] == airport[15]) |\n",
    "                                             (df_heatmap_changes['lat_lon_concat'] == airport[16]) |\n",
    "                                             (df_heatmap_changes['lat_lon_concat'] == airport[17]) |\n",
    "                                             (df_heatmap_changes['lat_lon_concat'] == airport[18]) |\n",
    "                                             (df_heatmap_changes['lat_lon_concat'] == airport[19]) |\n",
    "                                             (df_heatmap_changes['lat_lon_concat'] == airport[20]) |\n",
    "                                             (df_heatmap_changes['lat_lon_concat'] == airport[21]) |\n",
    "                                             (df_heatmap_changes['lat_lon_concat'] == airport[22])\n",
    "                                          ] \n",
    "\n",
    "df_heatmap_airport = df_heatmap_airport[[\"before\",\"entry_change\", \"exit_change\", \"re-entry_change\"]]\n",
    "df_heatmap_airport.shape"
   ]
  },
  {
   "cell_type": "code",
   "execution_count": 35,
   "metadata": {},
   "outputs": [
    {
     "data": {
      "text/plain": [
       "[43.512341732492445, 74.0354962771478, 68.02257785632864]"
      ]
     },
     "execution_count": 35,
     "metadata": {},
     "output_type": "execute_result"
    }
   ],
   "source": [
    "values = []\n",
    "for i in range(3):\n",
    "    percent = (df_heatmap_airport.sum(axis=0)[i+1] / df_heatmap_airport.sum(axis=0)[0]) * 100\n",
    "    values.append(percent)\n",
    "values"
   ]
  },
  {
   "cell_type": "code",
   "execution_count": 36,
   "metadata": {},
   "outputs": [
    {
     "data": {
      "image/png": "[encoded data removed]",
      "text/plain": [
       "<Figure size 720x720 with 1 Axes>"
      ]
     },
     "metadata": {
      "needs_background": "light"
     },
     "output_type": "display_data"
    }
   ],
   "source": [
    "plt.figure(figsize=(10, 10))\n",
    "labels = ('Entry Change', 'Exit Change', \"Re-entry Change\")\n",
    "y_pos = np.arange(len(labels))\n",
    "\n",
    "plt.bar(y_pos, values, align='center', alpha=0.5)\n",
    "plt.xticks(y_pos, labels)\n",
    "plt.ylabel('% Change in Volume of Crashes')\n",
    "plt.title('Airport Volume vs Pre-ridesharing')\n",
    "plt.ylim([-50,75])\n",
    "plt.show()"
   ]
  }
 ],
 "metadata": {
  "kernelspec": {
   "display_name": "Python 3",
   "language": "python",
   "name": "python3"
  },
  "language_info": {
   "codemirror_mode": {
    "name": "ipython",
    "version": 3
   },
   "file_extension": ".py",
   "mimetype": "text/x-python",
   "name": "python",
   "nbconvert_exporter": "python",
   "pygments_lexer": "ipython3",
   "version": "3.7.5"
  }
 },
 "nbformat": 4,
 "nbformat_minor": 2
}
