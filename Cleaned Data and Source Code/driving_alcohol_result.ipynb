{
 "cells": [
  {
   "cell_type": "code",
   "execution_count": 52,
   "metadata": {},
   "outputs": [],
   "source": [
    "import numpy as np\n",
    "import pandas as pd\n",
    "%matplotlib inline\n",
    "import seaborn as sns "
   ]
  },
  {
   "cell_type": "code",
   "execution_count": 66,
   "metadata": {},
   "outputs": [],
   "source": [
    "crash = pd.read_csv('crash_clean.csv')"
   ]
  },
  {
   "cell_type": "code",
   "execution_count": 5,
   "metadata": {},
   "outputs": [
    {
     "data": {
      "text/plain": [
       "array(['Unnamed: 0', 'Crash_ID', 'Crash_Fatal_Fl', 'Crash_Date',\n",
       "       'Crash_Time', 'Rpt_Rdwy_Sys_ID', 'Rpt_Hwy_Num', 'Private_Dr_Fl',\n",
       "       'Crash_Speed_Limit', 'At_Intrsct_Fl', 'Wthr_Cond_ID',\n",
       "       'Light_Cond_ID', 'Traffic_Cntl_ID', 'Investigat_Notify_Time',\n",
       "       'Obj_Struck_ID', 'Latitude', 'Longitude', 'Street_Name',\n",
       "       'Street_Nbr', 'Street_Name_2', 'Crash_Sev_ID', 'Day_of_Week',\n",
       "       'Tot_Injry_Cnt', 'Death_Cnt'], dtype=object)"
      ]
     },
     "execution_count": 5,
     "metadata": {},
     "output_type": "execute_result"
    }
   ],
   "source": [
    "crash.columns.values"
   ]
  },
  {
   "cell_type": "code",
   "execution_count": 13,
   "metadata": {},
   "outputs": [
    {
     "data": {
      "text/plain": [
       "<matplotlib.axes._subplots.AxesSubplot at 0x265ceb53438>"
      ]
     },
     "execution_count": 13,
     "metadata": {},
     "output_type": "execute_result"
    },
    {
     "data": {
      "image/png": "[encoded data removed]",
      "text/plain": [
       "<Figure size 432x288 with 1 Axes>"
      ]
     },
     "metadata": {
      "needs_background": "light"
     },
     "output_type": "display_data"
    }
   ],
   "source": [
    "crash.groupby('Day_of_Week')['Crash_ID'].count().sort_values(ascending=False).plot(kind='bar',color='deepskyblue')"
   ]
  },
  {
   "cell_type": "code",
   "execution_count": 67,
   "metadata": {},
   "outputs": [],
   "source": [
    "primary_person = pd.read_csv('primary_person_clean.csv')"
   ]
  },
  {
   "cell_type": "code",
   "execution_count": 19,
   "metadata": {},
   "outputs": [
    {
     "data": {
      "text/plain": [
       "array(['Unnamed: 0', 'Crash_ID', 'Prsn_Occpnt_Pos_ID',\n",
       "       'Prsn_Injry_Sev_ID', 'Prsn_Age', 'Prsn_Ethnicity_ID',\n",
       "       'Prsn_Gndr_ID', 'Prsn_Ejct_ID', 'Prsn_Rest_ID', 'Prsn_Airbag_ID',\n",
       "       'Prsn_Helmet_ID', 'Prsn_Alc_Spec_Type_ID', 'Prsn_Alc_Rslt_ID',\n",
       "       'Prsn_Bac_Test_Rslt', 'Prsn_Drg_Rslt_ID', 'Drvr_Drg_Cat_1_ID'],\n",
       "      dtype=object)"
      ]
     },
     "execution_count": 19,
     "metadata": {},
     "output_type": "execute_result"
    }
   ],
   "source": [
    "primary_person.columns.values"
   ]
  },
  {
   "cell_type": "code",
   "execution_count": 29,
   "metadata": {},
   "outputs": [
    {
     "data": {
      "text/plain": [
       "0.016332728288187656"
      ]
     },
     "execution_count": 29,
     "metadata": {},
     "output_type": "execute_result"
    }
   ],
   "source": [
    "primary_person['Prsn_Alc_Rslt_ID'].unique()\n",
    "a = len(primary_person['Prsn_Alc_Rslt_ID'])\n",
    "b = len(primary_person[primary_person['Prsn_Alc_Rslt_ID'].isna()])\n",
    "(a-b)/a"
   ]
  },
  {
   "cell_type": "code",
   "execution_count": 37,
   "metadata": {},
   "outputs": [
    {
     "data": {
      "text/plain": [
       "array([1., 4., 2., 6., 5., 3.])"
      ]
     },
     "execution_count": 37,
     "metadata": {},
     "output_type": "execute_result"
    }
   ],
   "source": [
    "alcohol_df = primary_person[primary_person['Prsn_Alc_Rslt_ID'].notna()]\n",
    "alcohol_df['Prsn_Alc_Spec_Type_ID'].unique()"
   ]
  },
  {
   "cell_type": "code",
   "execution_count": 46,
   "metadata": {},
   "outputs": [],
   "source": [
    "alcohol_df[['Prsn_Alc_Rslt_ID','Prsn_Alc_Spec_Type_ID']][100:200];"
   ]
  },
  {
   "cell_type": "code",
   "execution_count": 57,
   "metadata": {},
   "outputs": [
    {
     "data": {
      "text/plain": [
       "<matplotlib.axes._subplots.AxesSubplot at 0x265d08da6d8>"
      ]
     },
     "execution_count": 57,
     "metadata": {},
     "output_type": "execute_result"
    },
    {
     "data": {
      "image/png": "[encoded data removed]",
      "text/plain": [
       "<Figure size 432x288 with 1 Axes>"
      ]
     },
     "metadata": {},
     "output_type": "display_data"
    }
   ],
   "source": [
    "sns.set(color_codes=True)\n",
    "sns.distplot(crash['Prsn_Age'], bins =20,kde= False)"
   ]
  },
  {
   "cell_type": "code",
   "execution_count": 58,
   "metadata": {},
   "outputs": [],
   "source": [
    "import warnings\n",
    "warnings.filterwarnings('ignore')"
   ]
  },
  {
   "cell_type": "code",
   "execution_count": 68,
   "metadata": {},
   "outputs": [],
   "source": [
    "merged = crash.merge(primary_person, left_on='Crash_ID', right_on='Crash_ID')\n",
    "# df = merged[['Crash_ID', 'Crash_Date', 'Prsn_Alc_Rslt_ID', 'Prsn_Injry_Sev_ID']]\n",
    "# sum(df['Prsn_Alc_Rslt_ID'].notna())/len(df['Prsn_Alc_Rslt_ID'])"
   ]
  },
  {
   "cell_type": "code",
   "execution_count": 78,
   "metadata": {},
   "outputs": [
    {
     "data": {
      "text/html": [
       "<div>\n",
       "<style scoped>\n",
       "    .dataframe tbody tr th:only-of-type {\n",
       "        vertical-align: middle;\n",
       "    }\n",
       "\n",
       "    .dataframe tbody tr th {\n",
       "        vertical-align: top;\n",
       "    }\n",
       "\n",
       "    .dataframe thead th {\n",
       "        text-align: right;\n",
       "    }\n",
       "</style>\n",
       "<table border=\"1\" class=\"dataframe\">\n",
       "  <thead>\n",
       "    <tr style=\"text-align: right;\">\n",
       "      <th></th>\n",
       "      <th>Unnamed: 0_x</th>\n",
       "      <th>Crash_ID</th>\n",
       "      <th>Crash_Fatal_Fl</th>\n",
       "      <th>Crash_Date</th>\n",
       "      <th>Crash_Time</th>\n",
       "      <th>Rpt_Rdwy_Sys_ID</th>\n",
       "      <th>Rpt_Hwy_Num</th>\n",
       "      <th>Private_Dr_Fl</th>\n",
       "      <th>Crash_Speed_Limit</th>\n",
       "      <th>At_Intrsct_Fl</th>\n",
       "      <th>...</th>\n",
       "      <th>Prsn_Gndr_ID</th>\n",
       "      <th>Prsn_Ejct_ID</th>\n",
       "      <th>Prsn_Rest_ID</th>\n",
       "      <th>Prsn_Airbag_ID</th>\n",
       "      <th>Prsn_Helmet_ID</th>\n",
       "      <th>Prsn_Alc_Spec_Type_ID</th>\n",
       "      <th>Prsn_Alc_Rslt_ID</th>\n",
       "      <th>Prsn_Bac_Test_Rslt</th>\n",
       "      <th>Prsn_Drg_Rslt_ID</th>\n",
       "      <th>Drvr_Drg_Cat_1_ID</th>\n",
       "    </tr>\n",
       "  </thead>\n",
       "  <tbody>\n",
       "    <tr>\n",
       "      <th>32</th>\n",
       "      <td>15</td>\n",
       "      <td>11154992</td>\n",
       "      <td>N</td>\n",
       "      <td>2010-01-17</td>\n",
       "      <td>02:32 AM</td>\n",
       "      <td>19</td>\n",
       "      <td>NaN</td>\n",
       "      <td>N</td>\n",
       "      <td>40</td>\n",
       "      <td>Y</td>\n",
       "      <td>...</td>\n",
       "      <td>2.0</td>\n",
       "      <td>1.0</td>\n",
       "      <td>1.0</td>\n",
       "      <td>2.0</td>\n",
       "      <td>97.0</td>\n",
       "      <td>1.0</td>\n",
       "      <td>1.0</td>\n",
       "      <td>0.110</td>\n",
       "      <td>97.0</td>\n",
       "      <td>97.0</td>\n",
       "    </tr>\n",
       "    <tr>\n",
       "      <th>219</th>\n",
       "      <td>118</td>\n",
       "      <td>11165625</td>\n",
       "      <td>N</td>\n",
       "      <td>2010-01-28</td>\n",
       "      <td>11:06 AM</td>\n",
       "      <td>2</td>\n",
       "      <td>290</td>\n",
       "      <td>N</td>\n",
       "      <td>55</td>\n",
       "      <td>N</td>\n",
       "      <td>...</td>\n",
       "      <td>1.0</td>\n",
       "      <td>1.0</td>\n",
       "      <td>1.0</td>\n",
       "      <td>2.0</td>\n",
       "      <td>97.0</td>\n",
       "      <td>4.0</td>\n",
       "      <td>2.0</td>\n",
       "      <td>0.000</td>\n",
       "      <td>97.0</td>\n",
       "      <td>97.0</td>\n",
       "    </tr>\n",
       "    <tr>\n",
       "      <th>257</th>\n",
       "      <td>141</td>\n",
       "      <td>11167484</td>\n",
       "      <td>N</td>\n",
       "      <td>2010-01-01</td>\n",
       "      <td>02:42 AM</td>\n",
       "      <td>19</td>\n",
       "      <td>NaN</td>\n",
       "      <td>Y</td>\n",
       "      <td>0</td>\n",
       "      <td>N</td>\n",
       "      <td>...</td>\n",
       "      <td>1.0</td>\n",
       "      <td>1.0</td>\n",
       "      <td>1.0</td>\n",
       "      <td>3.0</td>\n",
       "      <td>97.0</td>\n",
       "      <td>1.0</td>\n",
       "      <td>1.0</td>\n",
       "      <td>0.106</td>\n",
       "      <td>97.0</td>\n",
       "      <td>97.0</td>\n",
       "    </tr>\n",
       "    <tr>\n",
       "      <th>266</th>\n",
       "      <td>146</td>\n",
       "      <td>11167781</td>\n",
       "      <td>N</td>\n",
       "      <td>2010-01-19</td>\n",
       "      <td>06:31 PM</td>\n",
       "      <td>19</td>\n",
       "      <td>NaN</td>\n",
       "      <td>N</td>\n",
       "      <td>30</td>\n",
       "      <td>N</td>\n",
       "      <td>...</td>\n",
       "      <td>1.0</td>\n",
       "      <td>1.0</td>\n",
       "      <td>10.0</td>\n",
       "      <td>2.0</td>\n",
       "      <td>97.0</td>\n",
       "      <td>1.0</td>\n",
       "      <td>1.0</td>\n",
       "      <td>0.193</td>\n",
       "      <td>97.0</td>\n",
       "      <td>97.0</td>\n",
       "    </tr>\n",
       "    <tr>\n",
       "      <th>296</th>\n",
       "      <td>163</td>\n",
       "      <td>11168642</td>\n",
       "      <td>N</td>\n",
       "      <td>2010-01-22</td>\n",
       "      <td>02:28 AM</td>\n",
       "      <td>19</td>\n",
       "      <td>NaN</td>\n",
       "      <td>N</td>\n",
       "      <td>40</td>\n",
       "      <td>N</td>\n",
       "      <td>...</td>\n",
       "      <td>1.0</td>\n",
       "      <td>1.0</td>\n",
       "      <td>10.0</td>\n",
       "      <td>2.0</td>\n",
       "      <td>97.0</td>\n",
       "      <td>1.0</td>\n",
       "      <td>1.0</td>\n",
       "      <td>0.196</td>\n",
       "      <td>97.0</td>\n",
       "      <td>97.0</td>\n",
       "    </tr>\n",
       "  </tbody>\n",
       "</table>\n",
       "<p>5 rows × 39 columns</p>\n",
       "</div>"
      ],
      "text/plain": [
       "     Unnamed: 0_x  Crash_ID Crash_Fatal_Fl Crash_Date Crash_Time  \\\n",
       "32             15  11154992              N 2010-01-17   02:32 AM   \n",
       "219           118  11165625              N 2010-01-28   11:06 AM   \n",
       "257           141  11167484              N 2010-01-01   02:42 AM   \n",
       "266           146  11167781              N 2010-01-19   06:31 PM   \n",
       "296           163  11168642              N 2010-01-22   02:28 AM   \n",
       "\n",
       "     Rpt_Rdwy_Sys_ID Rpt_Hwy_Num Private_Dr_Fl  Crash_Speed_Limit  \\\n",
       "32                19         NaN             N                 40   \n",
       "219                2         290             N                 55   \n",
       "257               19         NaN             Y                  0   \n",
       "266               19         NaN             N                 30   \n",
       "296               19         NaN             N                 40   \n",
       "\n",
       "    At_Intrsct_Fl  ...  Prsn_Gndr_ID  Prsn_Ejct_ID  Prsn_Rest_ID  \\\n",
       "32              Y  ...           2.0           1.0           1.0   \n",
       "219             N  ...           1.0           1.0           1.0   \n",
       "257             N  ...           1.0           1.0           1.0   \n",
       "266             N  ...           1.0           1.0          10.0   \n",
       "296             N  ...           1.0           1.0          10.0   \n",
       "\n",
       "    Prsn_Airbag_ID  Prsn_Helmet_ID  Prsn_Alc_Spec_Type_ID  Prsn_Alc_Rslt_ID  \\\n",
       "32             2.0            97.0                    1.0               1.0   \n",
       "219            2.0            97.0                    4.0               2.0   \n",
       "257            3.0            97.0                    1.0               1.0   \n",
       "266            2.0            97.0                    1.0               1.0   \n",
       "296            2.0            97.0                    1.0               1.0   \n",
       "\n",
       "    Prsn_Bac_Test_Rslt  Prsn_Drg_Rslt_ID Drvr_Drg_Cat_1_ID  \n",
       "32               0.110              97.0              97.0  \n",
       "219              0.000              97.0              97.0  \n",
       "257              0.106              97.0              97.0  \n",
       "266              0.193              97.0              97.0  \n",
       "296              0.196              97.0              97.0  \n",
       "\n",
       "[5 rows x 39 columns]"
      ]
     },
     "execution_count": 78,
     "metadata": {},
     "output_type": "execute_result"
    }
   ],
   "source": [
    "crash.head(10)\n",
    "merged.head(5)\n",
    "merge_alco=merged[merged['Prsn_Alc_Rslt_ID'].notna()]\n",
    "import datetime as dt\n",
    "merge_alco[\"Crash_Date\"] = pd.to_datetime(merge_alco[\"Crash_Date\"], format= \"%m/%d/%Y\")\n",
    "merge_alco.head(5)"
   ]
  },
  {
   "cell_type": "code",
   "execution_count": 81,
   "metadata": {},
   "outputs": [],
   "source": [
    "mask = (merge_alco[\"Crash_Date\"] > dt.datetime(2014,6,1)) & (merge_alco[\"Crash_Date\"] <= dt.datetime(2016,5,10)) | (merge_alco[\"Crash_Date\"] > dt.datetime(2017,5,29))"
   ]
  },
  {
   "cell_type": "code",
   "execution_count": 96,
   "metadata": {},
   "outputs": [
    {
     "name": "stdout",
     "output_type": "stream",
     "text": [
      "1918\n",
      "2761\n",
      "0.9004171011470281\n",
      "0.8663527707352409\n"
     ]
    }
   ],
   "source": [
    "rideshare = merge_alco[mask]\n",
    "no_rideshare = merge_alco[~mask]\n",
    "print(len(rideshare))\n",
    "print(len(no_rideshare))\n",
    "len(rideshare[rideshare['Prsn_Alc_Rslt_ID']==1])\n",
    "print(len(rideshare[rideshare['Prsn_Alc_Rslt_ID']==1])/len(rideshare))\n",
    "print(len(no_rideshare[no_rideshare['Prsn_Alc_Rslt_ID']==1])/len(no_rideshare))"
   ]
  },
  {
   "cell_type": "code",
   "execution_count": null,
   "metadata": {},
   "outputs": [],
   "source": []
  }
 ],
 "metadata": {
  "kernelspec": {
   "display_name": "Python 3",
   "language": "python",
   "name": "python3"
  },
  "language_info": {
   "codemirror_mode": {
    "name": "ipython",
    "version": 3
   },
   "file_extension": ".py",
   "mimetype": "text/x-python",
   "name": "python",
   "nbconvert_exporter": "python",
   "pygments_lexer": "ipython3",
   "version": "3.7.3"
  }
 },
 "nbformat": 4,
 "nbformat_minor": 2
}
