{
 "cells": [
  {
   "cell_type": "code",
   "execution_count": 16,
   "metadata": {},
   "outputs": [],
   "source": [
    "import pandas as pd"
   ]
  },
  {
   "cell_type": "code",
   "execution_count": 47,
   "metadata": {
    "scrolled": true
   },
   "outputs": [],
   "source": [
    "import glob\n",
    "public_csv = glob.glob('./*AUSTIN/*_person*')"
   ]
  },
  {
   "cell_type": "code",
   "execution_count": 67,
   "metadata": {},
   "outputs": [
    {
     "name": "stdout",
     "output_type": "stream",
     "text": [
      "20100101-20101231_AUSTIN\\extract_public_2010_20190912084151_person_20100101-20101231_AUSTIN.csv\n",
      "20110101-20111231_AUSTIN\\extract_public_2010_20190912084229_person_20110101-20111231_AUSTIN.csv\n",
      "20120101-20121231_AUSTIN\\extract_public_2010_20190912084258_person_20120101-20121231_AUSTIN.csv\n",
      "20130101-20131231_AUSTIN\\extract_public_2010_20190912084344_person_20130101-20131231_AUSTIN.csv\n",
      "20140101-20141231_AUSTIN\\extract_public_2010_20190912084419_person_20140101-20141231_AUSTIN.csv\n",
      "20150101-20151231_AUSTIN\\extract_public_2015_20190912084445_person_20150101-20151231_AUSTIN.csv\n",
      "20160101-20161231_AUSTIN\\extract_public_2015_20190912084510_person_20160101-20161231_AUSTIN.csv\n",
      "20170101-20171231_AUSTIN\\extract_public_2015_20190912084536_person_20170101-20171231_AUSTIN.csv\n",
      "20180101-20181231_AUSTIN\\extract_public_2018_20190912084602_person_20180101-20181231_AUSTIN.csv\n",
      "20190101-20190911_AUSTIN\\extract_public_2018_20190912084628_person_20190101-20190911_AUSTIN.csv\n"
     ]
    }
   ],
   "source": [
    "df = pd.DataFrame()\n",
    "for i in public_csv:\n",
    "    j = i[2:]\n",
    "    #print(j) #to check\n",
    "    k = (pd.read_csv(j))\n",
    "    df = df.append(k)\n",
    "    "
   ]
  },
  {
   "cell_type": "code",
   "execution_count": 69,
   "metadata": {
    "scrolled": true
   },
   "outputs": [
    {
     "name": "stdout",
     "output_type": "stream",
     "text": [
      "<class 'pandas.core.frame.DataFrame'>\n",
      "Int64Index: 109548 entries, 0 to 7258\n",
      "Data columns (total 27 columns):\n",
      "Crash_ID                 109548 non-null int64\n",
      "Unit_Nbr                 109548 non-null int64\n",
      "Prsn_Nbr                 109548 non-null int64\n",
      "Prsn_Type_ID             109548 non-null int64\n",
      "Prsn_Occpnt_Pos_ID       109507 non-null float64\n",
      "Prsn_Injry_Sev_ID        109234 non-null float64\n",
      "Prsn_Age                 97838 non-null float64\n",
      "Prsn_Ethnicity_ID        105973 non-null float64\n",
      "Prsn_Gndr_ID             109166 non-null float64\n",
      "Prsn_Ejct_ID             109548 non-null int64\n",
      "Prsn_Rest_ID             109098 non-null float64\n",
      "Prsn_Airbag_ID           109012 non-null float64\n",
      "Prsn_Helmet_ID           109548 non-null int64\n",
      "Prsn_Sol_Fl              109115 non-null object\n",
      "Prsn_Alc_Spec_Type_ID    0 non-null float64\n",
      "Prsn_Alc_Rslt_ID         0 non-null float64\n",
      "Prsn_Bac_Test_Rslt       0 non-null float64\n",
      "Prsn_Drg_Spec_Type_ID    0 non-null float64\n",
      "Prsn_Drg_Rslt_ID         0 non-null float64\n",
      "Prsn_Death_Time          100 non-null object\n",
      "Sus_Serious_Injry_Cnt    109548 non-null int64\n",
      "Nonincap_Injry_Cnt       109548 non-null int64\n",
      "Poss_Injry_Cnt           109548 non-null int64\n",
      "Non_Injry_Cnt            109548 non-null int64\n",
      "Unkn_Injry_Cnt           109548 non-null int64\n",
      "Tot_Injry_Cnt            109548 non-null int64\n",
      "Death_Cnt                109548 non-null int64\n",
      "dtypes: float64(12), int64(13), object(2)\n",
      "memory usage: 23.4+ MB\n"
     ]
    }
   ],
   "source": [
    "df.info()\n",
    "\n"
   ]
  },
  {
   "cell_type": "code",
   "execution_count": 74,
   "metadata": {},
   "outputs": [],
   "source": [
    "df.to_csv('person.csv')"
   ]
  },
  {
   "cell_type": "code",
   "execution_count": 83,
   "metadata": {
    "scrolled": true
   },
   "outputs": [
    {
     "name": "stdout",
     "output_type": "stream",
     "text": [
      "<class 'pandas.core.frame.DataFrame'>\n",
      "Int64Index: 109548 entries, 0 to 7258\n",
      "Data columns (total 6 columns):\n",
      "Crash_ID             109548 non-null int64\n",
      "Prsn_Nbr             109548 non-null int64\n",
      "Prsn_Type_ID         109548 non-null int64\n",
      "Prsn_Age             97838 non-null float64\n",
      "Prsn_Ethnicity_ID    105973 non-null float64\n",
      "Prsn_Gndr_ID         109166 non-null float64\n",
      "dtypes: float64(3), int64(3)\n",
      "memory usage: 8.4 MB\n"
     ]
    }
   ],
   "source": [
    "#df.drop(df.columns[0], axis = 1)\n",
    "df_clean = df[['Crash_ID','Prsn_Nbr', 'Prsn_Type_ID', 'Prsn_Age', 'Prsn_Ethnicity_ID', 'Prsn_Gndr_ID', ] ]\n",
    "df_clean.info()"
   ]
  },
  {
   "cell_type": "code",
   "execution_count": 84,
   "metadata": {},
   "outputs": [],
   "source": [
    "df_clean.to_csv('person_clean.csv')"
   ]
  }
 ],
 "metadata": {
  "kernelspec": {
   "display_name": "Python 3",
   "language": "python",
   "name": "python3"
  },
  "language_info": {
   "codemirror_mode": {
    "name": "ipython",
    "version": 3
   },
   "file_extension": ".py",
   "mimetype": "text/x-python",
   "name": "python",
   "nbconvert_exporter": "python",
   "pygments_lexer": "ipython3",
   "version": "3.7.4"
  }
 },
 "nbformat": 4,
 "nbformat_minor": 2
}
