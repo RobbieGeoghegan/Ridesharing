{
 "cells": [
  {
   "cell_type": "code",
   "execution_count": 2,
   "metadata": {},
   "outputs": [],
   "source": [
    "import pandas as pd\n",
    "import glob"
   ]
  },
  {
   "cell_type": "code",
   "execution_count": 3,
   "metadata": {},
   "outputs": [],
   "source": [
    "primary_person_csv = glob.glob('./*AUSTIN/*primaryperson*') #./ means this directory; *everything before, *everything after"
   ]
  },
  {
   "cell_type": "code",
   "execution_count": 4,
   "metadata": {},
   "outputs": [
    {
     "data": {
      "text/plain": [
       "['.\\\\20100101-20101231_AUSTIN\\\\extract_public_2010_20190912084151_primaryperson_20100101-20101231_AUSTIN.csv',\n",
       " '.\\\\20110101-20111231_AUSTIN\\\\extract_public_2010_20190912084229_primaryperson_20110101-20111231_AUSTIN.csv',\n",
       " '.\\\\20120101-20121231_AUSTIN\\\\extract_public_2010_20190912084258_primaryperson_20120101-20121231_AUSTIN.csv',\n",
       " '.\\\\20130101-20131231_AUSTIN\\\\extract_public_2010_20190912084344_primaryperson_20130101-20131231_AUSTIN.csv',\n",
       " '.\\\\20140101-20141231_AUSTIN\\\\extract_public_2010_20190912084419_primaryperson_20140101-20141231_AUSTIN.csv',\n",
       " '.\\\\20150101-20151231_AUSTIN\\\\extract_public_2015_20190912084445_primaryperson_20150101-20151231_AUSTIN.csv',\n",
       " '.\\\\20160101-20161231_AUSTIN\\\\extract_public_2015_20190912084510_primaryperson_20160101-20161231_AUSTIN.csv',\n",
       " '.\\\\20170101-20171231_AUSTIN\\\\extract_public_2015_20190912084536_primaryperson_20170101-20171231_AUSTIN.csv',\n",
       " '.\\\\20180101-20181231_AUSTIN\\\\extract_public_2018_20190912084602_primaryperson_20180101-20181231_AUSTIN.csv',\n",
       " '.\\\\20190101-20190911_AUSTIN\\\\extract_public_2018_20190912084628_primaryperson_20190101-20190911_AUSTIN.csv']"
      ]
     },
     "execution_count": 4,
     "metadata": {},
     "output_type": "execute_result"
    }
   ],
   "source": [
    "primary_person_csv"
   ]
  },
  {
   "cell_type": "code",
   "execution_count": 5,
   "metadata": {},
   "outputs": [
    {
     "name": "stdout",
     "output_type": "stream",
     "text": [
      "20100101-20101231_AUSTIN\\extract_public_2010_20190912084151_primaryperson_20100101-20101231_AUSTIN.csv\n",
      "20110101-20111231_AUSTIN\\extract_public_2010_20190912084229_primaryperson_20110101-20111231_AUSTIN.csv\n",
      "20120101-20121231_AUSTIN\\extract_public_2010_20190912084258_primaryperson_20120101-20121231_AUSTIN.csv\n",
      "20130101-20131231_AUSTIN\\extract_public_2010_20190912084344_primaryperson_20130101-20131231_AUSTIN.csv\n",
      "20140101-20141231_AUSTIN\\extract_public_2010_20190912084419_primaryperson_20140101-20141231_AUSTIN.csv\n",
      "20150101-20151231_AUSTIN\\extract_public_2015_20190912084445_primaryperson_20150101-20151231_AUSTIN.csv\n"
     ]
    },
    {
     "name": "stderr",
     "output_type": "stream",
     "text": [
      "C:\\Users\\geogh\\Anaconda3\\lib\\site-packages\\IPython\\core\\interactiveshell.py:3049: DtypeWarning: Columns (31) have mixed types. Specify dtype option on import or set low_memory=False.\n",
      "  interactivity=interactivity, compiler=compiler, result=result)\n"
     ]
    },
    {
     "name": "stdout",
     "output_type": "stream",
     "text": [
      "20160101-20161231_AUSTIN\\extract_public_2015_20190912084510_primaryperson_20160101-20161231_AUSTIN.csv\n",
      "20170101-20171231_AUSTIN\\extract_public_2015_20190912084536_primaryperson_20170101-20171231_AUSTIN.csv\n"
     ]
    },
    {
     "name": "stderr",
     "output_type": "stream",
     "text": [
      "C:\\Users\\geogh\\Anaconda3\\lib\\site-packages\\IPython\\core\\interactiveshell.py:3049: DtypeWarning: Columns (20,31) have mixed types. Specify dtype option on import or set low_memory=False.\n",
      "  interactivity=interactivity, compiler=compiler, result=result)\n"
     ]
    },
    {
     "name": "stdout",
     "output_type": "stream",
     "text": [
      "20180101-20181231_AUSTIN\\extract_public_2018_20190912084602_primaryperson_20180101-20181231_AUSTIN.csv\n",
      "20190101-20190911_AUSTIN\\extract_public_2018_20190912084628_primaryperson_20190101-20190911_AUSTIN.csv\n"
     ]
    }
   ],
   "source": [
    "df = pd.DataFrame()\n",
    "for i in primary_person_csv:\n",
    "    j = i[2:] #remove .\\\\ from filename\n",
    "    print(j)\n",
    "    k = (pd.read_csv(j))\n",
    "    df = df.append(k)"
   ]
  },
  {
   "cell_type": "code",
   "execution_count": 6,
   "metadata": {},
   "outputs": [
    {
     "name": "stdout",
     "output_type": "stream",
     "text": [
      "<class 'pandas.core.frame.DataFrame'>\n",
      "Int64Index: 286480 entries, 0 to 22751\n",
      "Data columns (total 32 columns):\n",
      "Crash_ID                 286480 non-null int64\n",
      "Unit_Nbr                 286480 non-null int64\n",
      "Prsn_Nbr                 286480 non-null int64\n",
      "Prsn_Type_ID             286179 non-null float64\n",
      "Prsn_Occpnt_Pos_ID       286437 non-null float64\n",
      "Prsn_Injry_Sev_ID        285790 non-null float64\n",
      "Prsn_Age                 270091 non-null float64\n",
      "Prsn_Ethnicity_ID        283149 non-null float64\n",
      "Prsn_Gndr_ID             285791 non-null float64\n",
      "Prsn_Ejct_ID             286179 non-null float64\n",
      "Prsn_Rest_ID             285537 non-null float64\n",
      "Prsn_Airbag_ID           285364 non-null float64\n",
      "Prsn_Helmet_ID           286179 non-null float64\n",
      "Prsn_Sol_Fl              285702 non-null object\n",
      "Prsn_Alc_Spec_Type_ID    286479 non-null float64\n",
      "Prsn_Alc_Rslt_ID         4679 non-null float64\n",
      "Prsn_Bac_Test_Rslt       4679 non-null float64\n",
      "Prsn_Drg_Spec_Type_ID    286479 non-null float64\n",
      "Prsn_Drg_Rslt_ID         286425 non-null float64\n",
      "Drvr_Drg_Cat_1_ID        286457 non-null float64\n",
      "Prsn_Death_Time          620 non-null object\n",
      "Sus_Serious_Injry_Cnt    286480 non-null int64\n",
      "Nonincap_Injry_Cnt       286480 non-null int64\n",
      "Poss_Injry_Cnt           286480 non-null int64\n",
      "Non_Injry_Cnt            286480 non-null int64\n",
      "Unkn_Injry_Cnt           286480 non-null int64\n",
      "Tot_Injry_Cnt            286480 non-null int64\n",
      "Death_Cnt                286480 non-null int64\n",
      "Drvr_Lic_Type_ID         279647 non-null float64\n",
      "Drvr_Lic_State_ID        260300 non-null float64\n",
      "Drvr_Lic_Cls_ID          274570 non-null float64\n",
      "Drvr_Zip                 260501 non-null object\n",
      "dtypes: float64(19), int64(10), object(3)\n",
      "memory usage: 72.1+ MB\n"
     ]
    }
   ],
   "source": [
    "df.info()"
   ]
  },
  {
   "cell_type": "code",
   "execution_count": 7,
   "metadata": {},
   "outputs": [
    {
     "data": {
      "text/plain": [
       "(286480, 32)"
      ]
     },
     "execution_count": 7,
     "metadata": {},
     "output_type": "execute_result"
    }
   ],
   "source": [
    "df.shape"
   ]
  },
  {
   "cell_type": "code",
   "execution_count": 8,
   "metadata": {},
   "outputs": [
    {
     "data": {
      "text/plain": [
       "Crash_ID                      0\n",
       "Unit_Nbr                      0\n",
       "Prsn_Nbr                      0\n",
       "Prsn_Type_ID                301\n",
       "Prsn_Occpnt_Pos_ID           43\n",
       "Prsn_Injry_Sev_ID           690\n",
       "Prsn_Age                  16389\n",
       "Prsn_Ethnicity_ID          3331\n",
       "Prsn_Gndr_ID                689\n",
       "Prsn_Ejct_ID                301\n",
       "Prsn_Rest_ID                943\n",
       "Prsn_Airbag_ID             1116\n",
       "Prsn_Helmet_ID              301\n",
       "Prsn_Sol_Fl                 778\n",
       "Prsn_Alc_Spec_Type_ID         1\n",
       "Prsn_Alc_Rslt_ID         281801\n",
       "Prsn_Bac_Test_Rslt       281801\n",
       "Prsn_Drg_Spec_Type_ID         1\n",
       "Prsn_Drg_Rslt_ID             55\n",
       "Drvr_Drg_Cat_1_ID            23\n",
       "Prsn_Death_Time          285860\n",
       "Sus_Serious_Injry_Cnt         0\n",
       "Nonincap_Injry_Cnt            0\n",
       "Poss_Injry_Cnt                0\n",
       "Non_Injry_Cnt                 0\n",
       "Unkn_Injry_Cnt                0\n",
       "Tot_Injry_Cnt                 0\n",
       "Death_Cnt                     0\n",
       "Drvr_Lic_Type_ID           6833\n",
       "Drvr_Lic_State_ID         26180\n",
       "Drvr_Lic_Cls_ID           11910\n",
       "Drvr_Zip                  25979\n",
       "dtype: int64"
      ]
     },
     "execution_count": 8,
     "metadata": {},
     "output_type": "execute_result"
    }
   ],
   "source": [
    "df.isna().sum()"
   ]
  },
  {
   "cell_type": "code",
   "execution_count": 9,
   "metadata": {},
   "outputs": [
    {
     "data": {
      "text/html": [
       "<div>\n",
       "<style scoped>\n",
       "    .dataframe tbody tr th:only-of-type {\n",
       "        vertical-align: middle;\n",
       "    }\n",
       "\n",
       "    .dataframe tbody tr th {\n",
       "        vertical-align: top;\n",
       "    }\n",
       "\n",
       "    .dataframe thead th {\n",
       "        text-align: right;\n",
       "    }\n",
       "</style>\n",
       "<table border=\"1\" class=\"dataframe\">\n",
       "  <thead>\n",
       "    <tr style=\"text-align: right;\">\n",
       "      <th></th>\n",
       "      <th>Crash_ID</th>\n",
       "      <th>Prsn_Occpnt_Pos_ID</th>\n",
       "      <th>Prsn_Injry_Sev_ID</th>\n",
       "      <th>Prsn_Age</th>\n",
       "      <th>Prsn_Ethnicity_ID</th>\n",
       "      <th>Prsn_Gndr_ID</th>\n",
       "      <th>Prsn_Ejct_ID</th>\n",
       "      <th>Prsn_Rest_ID</th>\n",
       "      <th>Prsn_Airbag_ID</th>\n",
       "      <th>Prsn_Helmet_ID</th>\n",
       "      <th>Prsn_Alc_Spec_Type_ID</th>\n",
       "      <th>Prsn_Alc_Rslt_ID</th>\n",
       "      <th>Prsn_Bac_Test_Rslt</th>\n",
       "      <th>Prsn_Drg_Rslt_ID</th>\n",
       "      <th>Drvr_Drg_Cat_1_ID</th>\n",
       "    </tr>\n",
       "  </thead>\n",
       "  <tbody>\n",
       "    <tr>\n",
       "      <th>0</th>\n",
       "      <td>11152580</td>\n",
       "      <td>1.0</td>\n",
       "      <td>3.0</td>\n",
       "      <td>24.0</td>\n",
       "      <td>1.0</td>\n",
       "      <td>2.0</td>\n",
       "      <td>1.0</td>\n",
       "      <td>1.0</td>\n",
       "      <td>2.0</td>\n",
       "      <td>97.0</td>\n",
       "      <td>4.0</td>\n",
       "      <td>NaN</td>\n",
       "      <td>NaN</td>\n",
       "      <td>97.0</td>\n",
       "      <td>97.0</td>\n",
       "    </tr>\n",
       "    <tr>\n",
       "      <th>1</th>\n",
       "      <td>11152580</td>\n",
       "      <td>1.0</td>\n",
       "      <td>5.0</td>\n",
       "      <td>60.0</td>\n",
       "      <td>2.0</td>\n",
       "      <td>1.0</td>\n",
       "      <td>1.0</td>\n",
       "      <td>1.0</td>\n",
       "      <td>2.0</td>\n",
       "      <td>97.0</td>\n",
       "      <td>4.0</td>\n",
       "      <td>NaN</td>\n",
       "      <td>NaN</td>\n",
       "      <td>97.0</td>\n",
       "      <td>97.0</td>\n",
       "    </tr>\n",
       "    <tr>\n",
       "      <th>2</th>\n",
       "      <td>11152580</td>\n",
       "      <td>1.0</td>\n",
       "      <td>5.0</td>\n",
       "      <td>23.0</td>\n",
       "      <td>2.0</td>\n",
       "      <td>1.0</td>\n",
       "      <td>1.0</td>\n",
       "      <td>1.0</td>\n",
       "      <td>2.0</td>\n",
       "      <td>97.0</td>\n",
       "      <td>4.0</td>\n",
       "      <td>NaN</td>\n",
       "      <td>NaN</td>\n",
       "      <td>97.0</td>\n",
       "      <td>97.0</td>\n",
       "    </tr>\n",
       "    <tr>\n",
       "      <th>3</th>\n",
       "      <td>11153849</td>\n",
       "      <td>1.0</td>\n",
       "      <td>5.0</td>\n",
       "      <td>NaN</td>\n",
       "      <td>2.0</td>\n",
       "      <td>1.0</td>\n",
       "      <td>1.0</td>\n",
       "      <td>1.0</td>\n",
       "      <td>2.0</td>\n",
       "      <td>97.0</td>\n",
       "      <td>4.0</td>\n",
       "      <td>NaN</td>\n",
       "      <td>NaN</td>\n",
       "      <td>97.0</td>\n",
       "      <td>97.0</td>\n",
       "    </tr>\n",
       "    <tr>\n",
       "      <th>4</th>\n",
       "      <td>11153849</td>\n",
       "      <td>1.0</td>\n",
       "      <td>5.0</td>\n",
       "      <td>NaN</td>\n",
       "      <td>2.0</td>\n",
       "      <td>1.0</td>\n",
       "      <td>1.0</td>\n",
       "      <td>1.0</td>\n",
       "      <td>3.0</td>\n",
       "      <td>97.0</td>\n",
       "      <td>4.0</td>\n",
       "      <td>NaN</td>\n",
       "      <td>NaN</td>\n",
       "      <td>97.0</td>\n",
       "      <td>97.0</td>\n",
       "    </tr>\n",
       "  </tbody>\n",
       "</table>\n",
       "</div>"
      ],
      "text/plain": [
       "   Crash_ID  Prsn_Occpnt_Pos_ID  Prsn_Injry_Sev_ID  Prsn_Age  \\\n",
       "0  11152580                 1.0                3.0      24.0   \n",
       "1  11152580                 1.0                5.0      60.0   \n",
       "2  11152580                 1.0                5.0      23.0   \n",
       "3  11153849                 1.0                5.0       NaN   \n",
       "4  11153849                 1.0                5.0       NaN   \n",
       "\n",
       "   Prsn_Ethnicity_ID  Prsn_Gndr_ID  Prsn_Ejct_ID  Prsn_Rest_ID  \\\n",
       "0                1.0           2.0           1.0           1.0   \n",
       "1                2.0           1.0           1.0           1.0   \n",
       "2                2.0           1.0           1.0           1.0   \n",
       "3                2.0           1.0           1.0           1.0   \n",
       "4                2.0           1.0           1.0           1.0   \n",
       "\n",
       "   Prsn_Airbag_ID  Prsn_Helmet_ID  Prsn_Alc_Spec_Type_ID  Prsn_Alc_Rslt_ID  \\\n",
       "0             2.0            97.0                    4.0               NaN   \n",
       "1             2.0            97.0                    4.0               NaN   \n",
       "2             2.0            97.0                    4.0               NaN   \n",
       "3             2.0            97.0                    4.0               NaN   \n",
       "4             3.0            97.0                    4.0               NaN   \n",
       "\n",
       "   Prsn_Bac_Test_Rslt  Prsn_Drg_Rslt_ID  Drvr_Drg_Cat_1_ID  \n",
       "0                 NaN              97.0               97.0  \n",
       "1                 NaN              97.0               97.0  \n",
       "2                 NaN              97.0               97.0  \n",
       "3                 NaN              97.0               97.0  \n",
       "4                 NaN              97.0               97.0  "
      ]
     },
     "execution_count": 9,
     "metadata": {},
     "output_type": "execute_result"
    }
   ],
   "source": [
    "#Drop uneeded columns\n",
    "drops = [\"Unit_Nbr\", \"Prsn_Nbr\", \"Prsn_Nbr\", \"Prsn_Type_ID\", \"Prsn_Sol_Fl\", \"Prsn_Drg_Spec_Type_ID\", \"Prsn_Death_Time\",\n",
    "        \"Sus_Serious_Injry_Cnt\", \"Nonincap_Injry_Cnt\", \"Poss_Injry_Cnt\", \"Non_Injry_Cnt\", \"Unkn_Injry_Cnt\", \"Tot_Injry_Cnt\",\n",
    "         \"Death_Cnt\", \"Drvr_Lic_Type_ID\", \"Drvr_Lic_State_ID\", \"Drvr_Lic_Cls_ID\", \"Drvr_Zip\"]\n",
    "#See data documentation for rationale\n",
    "df_primaryperson = df.drop(drops, axis=1)\n",
    "df_primaryperson.head()"
   ]
  },
  {
   "cell_type": "code",
   "execution_count": 10,
   "metadata": {},
   "outputs": [
    {
     "data": {
      "text/plain": [
       "(286480, 15)"
      ]
     },
     "execution_count": 10,
     "metadata": {},
     "output_type": "execute_result"
    }
   ],
   "source": [
    "df_primaryperson.shape"
   ]
  },
  {
   "cell_type": "code",
   "execution_count": 11,
   "metadata": {},
   "outputs": [],
   "source": [
    "df_primaryperson.to_csv(r'primary_person.csv')"
   ]
  },
  {
   "cell_type": "code",
   "execution_count": null,
   "metadata": {},
   "outputs": [],
   "source": []
  }
 ],
 "metadata": {
  "kernelspec": {
   "display_name": "Python 3",
   "language": "python",
   "name": "python3"
  },
  "language_info": {
   "codemirror_mode": {
    "name": "ipython",
    "version": 3
   },
   "file_extension": ".py",
   "mimetype": "text/x-python",
   "name": "python",
   "nbconvert_exporter": "python",
   "pygments_lexer": "ipython3",
   "version": "3.7.3"
  }
 },
 "nbformat": 4,
 "nbformat_minor": 2
}
