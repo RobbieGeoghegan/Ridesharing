{
 "cells": [
  {
   "cell_type": "code",
   "execution_count": 1,
   "metadata": {},
   "outputs": [],
   "source": [
    "import pandas as pd"
   ]
  },
  {
   "cell_type": "code",
   "execution_count": 2,
   "metadata": {},
   "outputs": [],
   "source": [
    "import glob\n",
    "public_csv = glob.glob('./*AUSTIN/*_charges*')"
   ]
  },
  {
   "cell_type": "code",
   "execution_count": 3,
   "metadata": {},
   "outputs": [
    {
     "name": "stdout",
     "output_type": "stream",
     "text": [
      "20100101-20101231_AUSTIN\\extract_public_2010_20190912084151_charges_20100101-20101231_AUSTIN.csv\n",
      "20110101-20111231_AUSTIN\\extract_public_2010_20190912084229_charges_20110101-20111231_AUSTIN.csv\n",
      "20120101-20121231_AUSTIN\\extract_public_2010_20190912084258_charges_20120101-20121231_AUSTIN.csv\n",
      "20130101-20131231_AUSTIN\\extract_public_2010_20190912084344_charges_20130101-20131231_AUSTIN.csv\n",
      "20140101-20141231_AUSTIN\\extract_public_2010_20190912084419_charges_20140101-20141231_AUSTIN.csv\n",
      "20150101-20151231_AUSTIN\\extract_public_2015_20190912084445_charges_20150101-20151231_AUSTIN.csv\n",
      "20160101-20161231_AUSTIN\\extract_public_2015_20190912084510_charges_20160101-20161231_AUSTIN.csv\n",
      "20170101-20171231_AUSTIN\\extract_public_2015_20190912084536_charges_20170101-20171231_AUSTIN.csv\n",
      "20180101-20181231_AUSTIN\\extract_public_2018_20190912084602_charges_20180101-20181231_AUSTIN.csv\n",
      "20190101-20190911_AUSTIN\\extract_public_2018_20190912084628_charges_20190101-20190911_AUSTIN.csv\n"
     ]
    }
   ],
   "source": [
    "df = pd.DataFrame()\n",
    "for i in public_csv:\n",
    "    j = i[2:]\n",
    "    print(j) #to check\n",
    "    k = (pd.read_csv(j))\n",
    "    df = df.append(k)"
   ]
  },
  {
   "cell_type": "code",
   "execution_count": 5,
   "metadata": {},
   "outputs": [
    {
     "name": "stdout",
     "output_type": "stream",
     "text": [
      "<class 'pandas.core.frame.DataFrame'>\n",
      "Int64Index: 410862 entries, 0 to 30995\n",
      "Data columns (total 6 columns):\n",
      "Crash_ID         410862 non-null int64\n",
      "Unit_Nbr         410862 non-null int64\n",
      "Prsn_Nbr         410862 non-null int64\n",
      "Charge_Cat_ID    8851 non-null float64\n",
      "Charge           410727 non-null object\n",
      "Citation_Nbr     86962 non-null object\n",
      "dtypes: float64(1), int64(3), object(2)\n",
      "memory usage: 21.9+ MB\n"
     ]
    }
   ],
   "source": [
    "df.info()"
   ]
  },
  {
   "cell_type": "code",
   "execution_count": 8,
   "metadata": {},
   "outputs": [],
   "source": [
    "df.to_csv('charges.csv', index= False)"
   ]
  },
  {
   "cell_type": "code",
   "execution_count": 10,
   "metadata": {},
   "outputs": [
    {
     "name": "stdout",
     "output_type": "stream",
     "text": [
      "<class 'pandas.core.frame.DataFrame'>\n",
      "Int64Index: 410862 entries, 0 to 30995\n",
      "Data columns (total 3 columns):\n",
      "Crash_ID         410862 non-null int64\n",
      "Charge           410727 non-null object\n",
      "Charge_Cat_ID    8851 non-null float64\n",
      "dtypes: float64(1), int64(1), object(1)\n",
      "memory usage: 12.5+ MB\n"
     ]
    }
   ],
   "source": [
    "df_clean = df[['Crash_ID','Charge', 'Charge_Cat_ID']]\n",
    "df_clean.info()"
   ]
  },
  {
   "cell_type": "code",
   "execution_count": 11,
   "metadata": {},
   "outputs": [],
   "source": [
    "df_clean.to_csv('charges_clean.csv', index=False)"
   ]
  }
 ],
 "metadata": {
  "kernelspec": {
   "display_name": "Python 3",
   "language": "python",
   "name": "python3"
  },
  "language_info": {
   "codemirror_mode": {
    "name": "ipython",
    "version": 3
   },
   "file_extension": ".py",
   "mimetype": "text/x-python",
   "name": "python",
   "nbconvert_exporter": "python",
   "pygments_lexer": "ipython3",
   "version": "3.7.3"
  }
 },
 "nbformat": 4,
 "nbformat_minor": 2
}
