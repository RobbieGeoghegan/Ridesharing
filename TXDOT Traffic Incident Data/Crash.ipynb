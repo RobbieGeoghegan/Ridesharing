{
 "cells": [
  {
   "cell_type": "code",
   "execution_count": 1,
   "metadata": {},
   "outputs": [],
   "source": [
    "#Required packages\n",
    "import pandas as pd\n",
    "import glob"
   ]
  },
  {
   "cell_type": "code",
   "execution_count": 2,
   "metadata": {
    "scrolled": true
   },
   "outputs": [],
   "source": [
    "#We are using tables each with 10 years of data (in separated tables)\n",
    "#we want to consolidate every type of table with all data in it\n",
    "crash_csv = glob.glob('./*AUSTIN/*_crash*')"
   ]
  },
  {
   "cell_type": "code",
   "execution_count": 3,
   "metadata": {},
   "outputs": [
    {
     "name": "stdout",
     "output_type": "stream",
     "text": [
      "20100101-20101231_AUSTIN\\extract_public_2010_20190912084151_crash_20100101-20101231_AUSTIN.csv\n"
     ]
    },
    {
     "name": "stderr",
     "output_type": "stream",
     "text": [
      "C:\\Users\\sebas\\Anaconda3\\envs\\ML\\lib\\site-packages\\IPython\\core\\interactiveshell.py:3058: DtypeWarning: Columns (19,20,22,34,35,37,46,154,155) have mixed types. Specify dtype option on import or set low_memory=False.\n",
      "  interactivity=interactivity, compiler=compiler, result=result)\n"
     ]
    },
    {
     "name": "stdout",
     "output_type": "stream",
     "text": [
      "20110101-20111231_AUSTIN\\extract_public_2010_20190912084229_crash_20110101-20111231_AUSTIN.csv\n"
     ]
    },
    {
     "name": "stderr",
     "output_type": "stream",
     "text": [
      "C:\\Users\\sebas\\Anaconda3\\envs\\ML\\lib\\site-packages\\IPython\\core\\interactiveshell.py:3058: DtypeWarning: Columns (22,34,35,37,46,154,155) have mixed types. Specify dtype option on import or set low_memory=False.\n",
      "  interactivity=interactivity, compiler=compiler, result=result)\n"
     ]
    },
    {
     "name": "stdout",
     "output_type": "stream",
     "text": [
      "20120101-20121231_AUSTIN\\extract_public_2010_20190912084258_crash_20120101-20121231_AUSTIN.csv\n"
     ]
    },
    {
     "name": "stderr",
     "output_type": "stream",
     "text": [
      "C:\\Users\\sebas\\Anaconda3\\envs\\ML\\lib\\site-packages\\IPython\\core\\interactiveshell.py:3058: DtypeWarning: Columns (22,35,37) have mixed types. Specify dtype option on import or set low_memory=False.\n",
      "  interactivity=interactivity, compiler=compiler, result=result)\n"
     ]
    },
    {
     "name": "stdout",
     "output_type": "stream",
     "text": [
      "20130101-20131231_AUSTIN\\extract_public_2010_20190912084344_crash_20130101-20131231_AUSTIN.csv\n"
     ]
    },
    {
     "name": "stderr",
     "output_type": "stream",
     "text": [
      "C:\\Users\\sebas\\Anaconda3\\envs\\ML\\lib\\site-packages\\IPython\\core\\interactiveshell.py:3058: DtypeWarning: Columns (19,20,22,34,37,46,154,155) have mixed types. Specify dtype option on import or set low_memory=False.\n",
      "  interactivity=interactivity, compiler=compiler, result=result)\n"
     ]
    },
    {
     "name": "stdout",
     "output_type": "stream",
     "text": [
      "20140101-20141231_AUSTIN\\extract_public_2010_20190912084419_crash_20140101-20141231_AUSTIN.csv\n"
     ]
    },
    {
     "name": "stderr",
     "output_type": "stream",
     "text": [
      "C:\\Users\\sebas\\Anaconda3\\envs\\ML\\lib\\site-packages\\IPython\\core\\interactiveshell.py:3058: DtypeWarning: Columns (19,34,81) have mixed types. Specify dtype option on import or set low_memory=False.\n",
      "  interactivity=interactivity, compiler=compiler, result=result)\n"
     ]
    },
    {
     "name": "stdout",
     "output_type": "stream",
     "text": [
      "20150101-20151231_AUSTIN\\extract_public_2015_20190912084445_crash_20150101-20151231_AUSTIN.csv\n"
     ]
    },
    {
     "name": "stderr",
     "output_type": "stream",
     "text": [
      "C:\\Users\\sebas\\Anaconda3\\envs\\ML\\lib\\site-packages\\IPython\\core\\interactiveshell.py:3058: DtypeWarning: Columns (19,20,34,35,37,46,154,155) have mixed types. Specify dtype option on import or set low_memory=False.\n",
      "  interactivity=interactivity, compiler=compiler, result=result)\n"
     ]
    },
    {
     "name": "stdout",
     "output_type": "stream",
     "text": [
      "20160101-20161231_AUSTIN\\extract_public_2015_20190912084510_crash_20160101-20161231_AUSTIN.csv\n"
     ]
    },
    {
     "name": "stderr",
     "output_type": "stream",
     "text": [
      "C:\\Users\\sebas\\Anaconda3\\envs\\ML\\lib\\site-packages\\IPython\\core\\interactiveshell.py:3058: DtypeWarning: Columns (20,22,34,35,46,154,155) have mixed types. Specify dtype option on import or set low_memory=False.\n",
      "  interactivity=interactivity, compiler=compiler, result=result)\n"
     ]
    },
    {
     "name": "stdout",
     "output_type": "stream",
     "text": [
      "20170101-20171231_AUSTIN\\extract_public_2015_20190912084536_crash_20170101-20171231_AUSTIN.csv\n",
      "20180101-20181231_AUSTIN\\extract_public_2018_20190912084602_crash_20180101-20181231_AUSTIN.csv\n"
     ]
    },
    {
     "name": "stderr",
     "output_type": "stream",
     "text": [
      "C:\\Users\\sebas\\Anaconda3\\envs\\ML\\lib\\site-packages\\IPython\\core\\interactiveshell.py:3058: DtypeWarning: Columns (19,22,34,37) have mixed types. Specify dtype option on import or set low_memory=False.\n",
      "  interactivity=interactivity, compiler=compiler, result=result)\n"
     ]
    },
    {
     "name": "stdout",
     "output_type": "stream",
     "text": [
      "20190101-20190911_AUSTIN\\extract_public_2018_20190912084628_crash_20190101-20190911_AUSTIN.csv\n"
     ]
    },
    {
     "name": "stderr",
     "output_type": "stream",
     "text": [
      "C:\\Users\\sebas\\Anaconda3\\envs\\ML\\lib\\site-packages\\IPython\\core\\interactiveshell.py:3058: DtypeWarning: Columns (22) have mixed types. Specify dtype option on import or set low_memory=False.\n",
      "  interactivity=interactivity, compiler=compiler, result=result)\n"
     ]
    }
   ],
   "source": [
    "# Creating an unified dataframe out of the 10 individual year csv's\n",
    "\n",
    "df = pd.DataFrame()\n",
    "for i in crash_csv:\n",
    "    j = i[2:]\n",
    "    print(j) #to check\n",
    "    k = (pd.read_csv(j))\n",
    "    df = df.append(k)\n",
    "    "
   ]
  },
  {
   "cell_type": "code",
   "execution_count": 4,
   "metadata": {
    "scrolled": true
   },
   "outputs": [
    {
     "name": "stdout",
     "output_type": "stream",
     "text": [
      "<class 'pandas.core.frame.DataFrame'>\n",
      "Int64Index: 147301 entries, 0 to 11533\n",
      "Columns: 171 entries, Crash_ID to Investigator_Narrative\n",
      "dtypes: float64(87), int64(30), object(54)\n",
      "memory usage: 193.3+ MB\n"
     ]
    }
   ],
   "source": [
    "# Verifying what columns we have and what kind of data they are\n",
    "\n",
    "df.info()"
   ]
  },
  {
   "cell_type": "code",
   "execution_count": 5,
   "metadata": {},
   "outputs": [],
   "source": [
    "# Saving the untouched merged tables to csv just in case\n",
    "\n",
    "df.to_csv('crash.csv')"
   ]
  },
  {
   "cell_type": "code",
   "execution_count": 7,
   "metadata": {},
   "outputs": [],
   "source": [
    "# Extracting the columns we are going to use for our analysis\n",
    "\n",
    "df.drop(df.columns[167:], axis = 1,inplace=True)\n",
    "df.drop(df.columns[105:165], axis = 1,inplace=True)\n",
    "df.drop(df.columns[102:104], axis = 1,inplace=True)\n",
    "df.drop(df.columns[94:101], axis = 1,inplace=True)\n",
    "df.drop(df.columns[85:93], axis = 1,inplace=True)\n",
    "df.drop(df.columns[79:83], axis = 1,inplace=True)\n",
    "df.drop(df.columns[69:77], axis = 1,inplace=True)\n",
    "df.drop(df.columns[55:68], axis = 1,inplace=True)\n",
    "df.drop(df.columns[49:53], axis = 1,inplace=True)\n",
    "df.drop(df.columns[33:47], axis = 1,inplace=True)\n",
    "df.drop(df.columns[29:32], axis = 1,inplace=True)\n",
    "df.drop(df.columns[27], axis = 1,inplace=True)\n",
    "df.drop(df.columns[20:26], axis = 1,inplace=True)\n",
    "df.drop(df.columns[10:18], axis = 1,inplace=True)\n",
    "df.drop(df.columns[2:8], axis = 1,inplace=True)\n"
   ]
  },
  {
   "cell_type": "code",
   "execution_count": 9,
   "metadata": {},
   "outputs": [
    {
     "name": "stdout",
     "output_type": "stream",
     "text": [
      "<class 'pandas.core.frame.DataFrame'>\n",
      "Int64Index: 147301 entries, 0 to 11533\n",
      "Data columns (total 23 columns):\n",
      "Crash_ID                  147301 non-null int64\n",
      "Crash_Fatal_Fl            147301 non-null object\n",
      "Crash_Date                147301 non-null object\n",
      "Crash_Time                147301 non-null object\n",
      "Rpt_Rdwy_Sys_ID           147301 non-null int64\n",
      "Rpt_Hwy_Num               51088 non-null object\n",
      "Private_Dr_Fl             147301 non-null object\n",
      "Crash_Speed_Limit         147301 non-null int64\n",
      "At_Intrsct_Fl             147301 non-null object\n",
      "Wthr_Cond_ID              147301 non-null int64\n",
      "Light_Cond_ID             147301 non-null int64\n",
      "Traffic_Cntl_ID           147301 non-null int64\n",
      "Investigat_Notify_Time    147203 non-null object\n",
      "Obj_Struck_ID             147301 non-null int64\n",
      "Latitude                  127889 non-null float64\n",
      "Longitude                 127889 non-null float64\n",
      "Street_Name               147301 non-null object\n",
      "Street_Nbr                61310 non-null float64\n",
      "Street_Name_2             64174 non-null object\n",
      "Crash_Sev_ID              147301 non-null int64\n",
      "Day_of_Week               147301 non-null object\n",
      "Tot_Injry_Cnt             147301 non-null int64\n",
      "Death_Cnt                 147301 non-null int64\n",
      "dtypes: float64(3), int64(10), object(10)\n",
      "memory usage: 27.0+ MB\n"
     ]
    }
   ],
   "source": [
    "# Verifying what columns we have and what kind of data they are\n",
    "\n",
    "df.info()"
   ]
  },
  {
   "cell_type": "code",
   "execution_count": 10,
   "metadata": {},
   "outputs": [],
   "source": [
    "# Exporting our data to csv for analysis\n",
    "df.to_csv('crash_clean.csv')"
   ]
  }
 ],
 "metadata": {
  "kernelspec": {
   "display_name": "Python 3",
   "language": "python",
   "name": "python3"
  },
  "language_info": {
   "codemirror_mode": {
    "name": "ipython",
    "version": 3
   },
   "file_extension": ".py",
   "mimetype": "text/x-python",
   "name": "python",
   "nbconvert_exporter": "python",
   "pygments_lexer": "ipython3",
   "version": "3.7.4"
  }
 },
 "nbformat": 4,
 "nbformat_minor": 2
}
