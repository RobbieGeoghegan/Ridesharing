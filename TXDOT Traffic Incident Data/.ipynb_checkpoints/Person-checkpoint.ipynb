{
 "cells": [
  {
   "cell_type": "code",
   "execution_count": 1,
   "metadata": {},
   "outputs": [],
   "source": [
    "#Required packages\n",
    "import pandas as pd #For data manipulation\n",
    "import glob # For folder navigation"
   ]
  },
  {
   "cell_type": "code",
   "execution_count": 2,
   "metadata": {
    "scrolled": true
   },
   "outputs": [],
   "source": [
    "#We are using tables each with 10 years of data (in separated tables)\n",
    "#we want to consolidate every type of table with all data in it\n",
    "person_csv = glob.glob('./*AUSTIN/*_person*')"
   ]
  },
  {
   "cell_type": "code",
   "execution_count": 3,
   "metadata": {},
   "outputs": [],
   "source": [
    "# Creating an unified dataframe out of the 10 individual year csv's\n",
    "\n",
    "df = pd.DataFrame()\n",
    "for i in person_csv:\n",
    "    j = i[2:]\n",
    "    #print(j) #to check\n",
    "    k = (pd.read_csv(j))\n",
    "    df = df.append(k)   "
   ]
  },
  {
   "cell_type": "code",
   "execution_count": 4,
   "metadata": {
    "scrolled": true
   },
   "outputs": [
    {
     "name": "stdout",
     "output_type": "stream",
     "text": [
      "<class 'pandas.core.frame.DataFrame'>\n",
      "Int64Index: 109548 entries, 0 to 7258\n",
      "Data columns (total 27 columns):\n",
      "Crash_ID                 109548 non-null int64\n",
      "Unit_Nbr                 109548 non-null int64\n",
      "Prsn_Nbr                 109548 non-null int64\n",
      "Prsn_Type_ID             109548 non-null int64\n",
      "Prsn_Occpnt_Pos_ID       109507 non-null float64\n",
      "Prsn_Injry_Sev_ID        109234 non-null float64\n",
      "Prsn_Age                 97838 non-null float64\n",
      "Prsn_Ethnicity_ID        105973 non-null float64\n",
      "Prsn_Gndr_ID             109166 non-null float64\n",
      "Prsn_Ejct_ID             109548 non-null int64\n",
      "Prsn_Rest_ID             109098 non-null float64\n",
      "Prsn_Airbag_ID           109012 non-null float64\n",
      "Prsn_Helmet_ID           109548 non-null int64\n",
      "Prsn_Sol_Fl              109115 non-null object\n",
      "Prsn_Alc_Spec_Type_ID    0 non-null float64\n",
      "Prsn_Alc_Rslt_ID         0 non-null float64\n",
      "Prsn_Bac_Test_Rslt       0 non-null float64\n",
      "Prsn_Drg_Spec_Type_ID    0 non-null float64\n",
      "Prsn_Drg_Rslt_ID         0 non-null float64\n",
      "Prsn_Death_Time          100 non-null object\n",
      "Sus_Serious_Injry_Cnt    109548 non-null int64\n",
      "Nonincap_Injry_Cnt       109548 non-null int64\n",
      "Poss_Injry_Cnt           109548 non-null int64\n",
      "Non_Injry_Cnt            109548 non-null int64\n",
      "Unkn_Injry_Cnt           109548 non-null int64\n",
      "Tot_Injry_Cnt            109548 non-null int64\n",
      "Death_Cnt                109548 non-null int64\n",
      "dtypes: float64(12), int64(13), object(2)\n",
      "memory usage: 23.4+ MB\n"
     ]
    }
   ],
   "source": [
    "# Verifying what columns we have and what kind of data they are\n",
    "\n",
    "df.info()"
   ]
  },
  {
   "cell_type": "code",
   "execution_count": 5,
   "metadata": {},
   "outputs": [],
   "source": [
    "# Saving the untouched merged tables to csv just in case\n",
    "\n",
    "df.to_csv('person.csv')"
   ]
  },
  {
   "cell_type": "code",
   "execution_count": 6,
   "metadata": {
    "scrolled": true
   },
   "outputs": [
    {
     "name": "stdout",
     "output_type": "stream",
     "text": [
      "<class 'pandas.core.frame.DataFrame'>\n",
      "Int64Index: 109548 entries, 0 to 7258\n",
      "Data columns (total 6 columns):\n",
      "Crash_ID             109548 non-null int64\n",
      "Prsn_Nbr             109548 non-null int64\n",
      "Prsn_Type_ID         109548 non-null int64\n",
      "Prsn_Age             97838 non-null float64\n",
      "Prsn_Ethnicity_ID    105973 non-null float64\n",
      "Prsn_Gndr_ID         109166 non-null float64\n",
      "dtypes: float64(3), int64(3)\n",
      "memory usage: 5.9 MB\n"
     ]
    }
   ],
   "source": [
    "# Extracting the columns we are going to use for our analysis\n",
    "\n",
    "#df.drop(df.columns[0], axis = 1)\n",
    "df_clean = df[['Crash_ID','Prsn_Nbr', 'Prsn_Type_ID', 'Prsn_Age', 'Prsn_Ethnicity_ID', 'Prsn_Gndr_ID', ] ]\n",
    "df_clean.info()"
   ]
  },
  {
   "cell_type": "code",
   "execution_count": 7,
   "metadata": {},
   "outputs": [],
   "source": [
    "# Exporting our data to csv for analysis\n",
    "df_clean.to_csv('person_clean.csv')"
   ]
  }
 ],
 "metadata": {
  "kernelspec": {
   "display_name": "Python 3",
   "language": "python",
   "name": "python3"
  },
  "language_info": {
   "codemirror_mode": {
    "name": "ipython",
    "version": 3
   },
   "file_extension": ".py",
   "mimetype": "text/x-python",
   "name": "python",
   "nbconvert_exporter": "python",
   "pygments_lexer": "ipython3",
   "version": "3.7.4"
  }
 },
 "nbformat": 4,
 "nbformat_minor": 2
}
