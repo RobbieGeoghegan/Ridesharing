{
 "cells": [
  {
   "cell_type": "code",
   "execution_count": null,
   "metadata": {},
   "outputs": [],
   "source": [
    "#Required packages\n",
    "import pandas as pd #For data manipulation\n",
    "import glob # For folder navigation"
   ]
  },
  {
   "cell_type": "code",
   "execution_count": null,
   "metadata": {},
   "outputs": [],
   "source": [
    "#We are using 6 types of tables each with 10 years of data (in separated tables)\n",
    "#we want to consolidate every type of table with all data in it\n",
    "\n",
    "public_csv = glob.glob('./*AUSTIN/*_person*') #./ means this directory; *everything before, *everything after\n",
    "primary_person_csv = glob.glob('./*AUSTIN/*primaryperson*') \n",
    "unit_csv = glob.glob('./*AUSTIN/*_unit*')\n",
    "unit_csv[0][2:]\n",
    "damages_csv = glob.glob('./*AUSTIN/*_damages*')\n",
    "crash_csv = glob.glob('./*AUSTIN/*_crash*')\n",
    "charges_csv = glob.glob('./*AUSTIN/*_charges*')"
   ]
  },
  {
   "cell_type": "code",
   "execution_count": null,
   "metadata": {},
   "outputs": [],
   "source": [
    "# Creating a unified dataframe\n",
    "ls = [public_csv,primary_person_csv,unit_csv,damages_csv,crash_csv,charges_csv]\n",
    "dfs = [public, primary, unit, damages, crash, charges]\n",
    "\n",
    "df = pd.DataFrame()\n",
    "for l in ls:\n",
    "    for i in l:\n",
    "        j = i[2:]\n",
    "    #print(j) #to check\n",
    "        k = (pd.read_csv(j))\n",
    "        df = df.append(k)"
   ]
  },
  {
   "cell_type": "code",
   "execution_count": null,
   "metadata": {},
   "outputs": [],
   "source": [
    "for n in range(0,len(ls)):\n",
    "    i = ls[n]\n",
    "    j = i[2:]\n",
    "    k = (pd.read_csv(j))\n",
    "    df = df.append(k)\n",
    "    df.rename(dfs[n], inplace=True)"
   ]
  },
  {
   "cell_type": "code",
   "execution_count": null,
   "metadata": {},
   "outputs": [],
   "source": [
    "df.info()"
   ]
  },
  {
   "cell_type": "code",
   "execution_count": null,
   "metadata": {},
   "outputs": [],
   "source": [
    "#Exporting the unified dataframe as .csv\n",
    "df.to_csv('person.csv')"
   ]
  },
  {
   "cell_type": "code",
   "execution_count": null,
   "metadata": {},
   "outputs": [],
   "source": [
    "#Extracting the colums we need from this table\n",
    "df_clean = df[['Crash_ID','Prsn_Nbr', 'Prsn_Type_ID', 'Prsn_Age', 'Prsn_Ethnicity_ID', 'Prsn_Gndr_ID', ] ]\n",
    "df_clean.info()"
   ]
  },
  {
   "cell_type": "code",
   "execution_count": null,
   "metadata": {},
   "outputs": [],
   "source": [
    "df_clean.to_csv('person_clean.csv')"
   ]
  },
  {
   "cell_type": "code",
   "execution_count": null,
   "metadata": {},
   "outputs": [],
   "source": [
    "df = pd.DataFrame()\n",
    "for i in primary_person_csv:\n",
    "    j = i[2:] #remove .\\\\ from filename\n",
    "    print(j)\n",
    "    k = (pd.read_csv(j))\n",
    "    df = df.append(k)"
   ]
  },
  {
   "cell_type": "code",
   "execution_count": null,
   "metadata": {},
   "outputs": [],
   "source": [
    "df.info()"
   ]
  },
  {
   "cell_type": "code",
   "execution_count": null,
   "metadata": {},
   "outputs": [],
   "source": [
    "#Drop uneeded columns\n",
    "drops = [\"Unit_Nbr\", \"Prsn_Nbr\", \"Prsn_Nbr\", \"Prsn_Type_ID\", \"Prsn_Sol_Fl\", \"Prsn_Drg_Spec_Type_ID\", \"Prsn_Death_Time\",\n",
    "        \"Sus_Serious_Injry_Cnt\", \"Nonincap_Injry_Cnt\", \"Poss_Injry_Cnt\", \"Non_Injry_Cnt\", \"Unkn_Injry_Cnt\", \"Tot_Injry_Cnt\",\n",
    "         \"Death_Cnt\", \"Drvr_Lic_Type_ID\", \"Drvr_Lic_State_ID\", \"Drvr_Lic_Cls_ID\", \"Drvr_Zip\"]\n",
    "#See data documentation for rationale\n",
    "df_primaryperson = df.drop(drops, axis=1)\n",
    "df_primaryperson.head()"
   ]
  },
  {
   "cell_type": "code",
   "execution_count": null,
   "metadata": {},
   "outputs": [],
   "source": [
    "df_primaryperson.to_csv(r'primary_person.csv')"
   ]
  },
  {
   "cell_type": "code",
   "execution_count": null,
   "metadata": {},
   "outputs": [],
   "source": [
    "df = pd.DataFrame()\n",
    "for i in unit_csv:\n",
    "    j = i[2:]\n",
    "    print(j) #to check\n",
    "    k = (pd.read_csv(j))\n",
    "    df = df.append(k, sort=False)"
   ]
  },
  {
   "cell_type": "code",
   "execution_count": null,
   "metadata": {},
   "outputs": [],
   "source": [
    "df.to_csv('unit.csv', index= False)"
   ]
  },
  {
   "cell_type": "code",
   "execution_count": null,
   "metadata": {},
   "outputs": [],
   "source": [
    "# Vehicle Damage Rating 1 & 2 - Severity\n",
    "df_clean = df[['Crash_ID', 'Unit_Nbr', 'Veh_Dmag_Scl_1_ID', 'Veh_Dmag_Scl_2_ID']]\n",
    "df_clean.info()"
   ]
  },
  {
   "cell_type": "code",
   "execution_count": null,
   "metadata": {},
   "outputs": [],
   "source": [
    "df_clean.to_csv('unit_clean.csv', index=False)"
   ]
  },
  {
   "cell_type": "code",
   "execution_count": null,
   "metadata": {},
   "outputs": [],
   "source": [
    "df = pd.DataFrame()\n",
    "for i in damages_csv:\n",
    "    j = i[2:]\n",
    "    print(j) #to check\n",
    "    k = (pd.read_csv(j))\n",
    "    df = df.append(k)"
   ]
  },
  {
   "cell_type": "code",
   "execution_count": null,
   "metadata": {},
   "outputs": [],
   "source": [
    "df.to_csv('damages.csv', index= False)"
   ]
  },
  {
   "cell_type": "code",
   "execution_count": null,
   "metadata": {},
   "outputs": [],
   "source": [
    "df = pd.DataFrame()\n",
    "for i in crash_csv:\n",
    "    j = i[2:]\n",
    "    #print(j) #to check\n",
    "    k = (pd.read_csv(j))\n",
    "    df = df.append(k)"
   ]
  },
  {
   "cell_type": "code",
   "execution_count": null,
   "metadata": {},
   "outputs": [],
   "source": [
    "df.to_csv('crash.csv')"
   ]
  },
  {
   "cell_type": "code",
   "execution_count": null,
   "metadata": {},
   "outputs": [],
   "source": [
    "df.drop(df.columns[167:], axis = 1,inplace=True)\n",
    "df.drop(df.columns[105:165], axis = 1,inplace=True)\n",
    "df.drop(df.columns[102:104], axis = 1,inplace=True)\n",
    "df.drop(df.columns[94:101], axis = 1,inplace=True)\n",
    "df.drop(df.columns[85:93], axis = 1,inplace=True)\n",
    "df.drop(df.columns[79:83], axis = 1,inplace=True)\n",
    "df.drop(df.columns[69:77], axis = 1,inplace=True)\n",
    "df.drop(df.columns[55:68], axis = 1,inplace=True)\n",
    "df.drop(df.columns[49:53], axis = 1,inplace=True)\n",
    "df.drop(df.columns[33:47], axis = 1,inplace=True)\n",
    "df.drop(df.columns[29:32], axis = 1,inplace=True)\n",
    "df.drop(df.columns[27], axis = 1,inplace=True)\n",
    "df.drop(df.columns[20:26], axis = 1,inplace=True)\n",
    "df.drop(df.columns[10:18], axis = 1,inplace=True)\n",
    "df.drop(df.columns[2:8], axis = 1,inplace=True)"
   ]
  },
  {
   "cell_type": "code",
   "execution_count": null,
   "metadata": {},
   "outputs": [],
   "source": [
    "df.to_csv('crash_clean.csv')"
   ]
  },
  {
   "cell_type": "code",
   "execution_count": null,
   "metadata": {},
   "outputs": [],
   "source": [
    "df = pd.DataFrame()\n",
    "for i in charges_csv:\n",
    "    j = i[2:]\n",
    "    print(j) #to check\n",
    "    k = (pd.read_csv(j))\n",
    "    df = df.append(k)"
   ]
  },
  {
   "cell_type": "code",
   "execution_count": null,
   "metadata": {},
   "outputs": [],
   "source": [
    "df.info()"
   ]
  },
  {
   "cell_type": "code",
   "execution_count": null,
   "metadata": {},
   "outputs": [],
   "source": [
    "df.to_csv('charges.csv', index= False)"
   ]
  },
  {
   "cell_type": "code",
   "execution_count": null,
   "metadata": {},
   "outputs": [],
   "source": [
    "df_clean = df[['Crash_ID','Charge', 'Charge_Cat_ID']]\n",
    "df_clean.info()"
   ]
  },
  {
   "cell_type": "code",
   "execution_count": null,
   "metadata": {},
   "outputs": [],
   "source": [
    "df_clean.to_csv('charges_clean.csv', index=False)"
   ]
  }
 ],
 "metadata": {
  "kernelspec": {
   "display_name": "Python 3",
   "language": "python",
   "name": "python3"
  },
  "language_info": {
   "codemirror_mode": {
    "name": "ipython",
    "version": 3
   },
   "file_extension": ".py",
   "mimetype": "text/x-python",
   "name": "python",
   "nbconvert_exporter": "python",
   "pygments_lexer": "ipython3",
   "version": "3.7.4"
  }
 },
 "nbformat": 4,
 "nbformat_minor": 2
}
