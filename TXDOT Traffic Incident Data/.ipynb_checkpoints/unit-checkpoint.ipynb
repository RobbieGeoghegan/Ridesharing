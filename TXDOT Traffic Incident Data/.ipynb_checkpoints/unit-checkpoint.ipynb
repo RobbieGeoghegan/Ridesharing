{
 "cells": [
  {
   "cell_type": "code",
   "execution_count": 1,
   "metadata": {},
   "outputs": [],
   "source": [
    "#Required packages\n",
    "import pandas as pd #For data manipulation\n",
    "import glob # For folder navigation"
   ]
  },
  {
   "cell_type": "code",
   "execution_count": 2,
   "metadata": {},
   "outputs": [
    {
     "data": {
      "text/plain": [
       "'20100101-20101231_AUSTIN\\\\extract_public_2010_20190912084151_unit_20100101-20101231_AUSTIN.csv'"
      ]
     },
     "execution_count": 2,
     "metadata": {},
     "output_type": "execute_result"
    }
   ],
   "source": [
    "#We are using tables each with 10 years of data (in separated tables)\n",
    "#we want to consolidate every type of table with all data in it\n",
    "unit_csv = glob.glob('./*AUSTIN/*_unit*')\n",
    "unit_csv[0][2:]"
   ]
  },
  {
   "cell_type": "code",
   "execution_count": 3,
   "metadata": {},
   "outputs": [
    {
     "name": "stdout",
     "output_type": "stream",
     "text": [
      "20100101-20101231_AUSTIN\\extract_public_2010_20190912084151_unit_20100101-20101231_AUSTIN.csv\n",
      "20110101-20111231_AUSTIN\\extract_public_2010_20190912084229_unit_20110101-20111231_AUSTIN.csv\n"
     ]
    },
    {
     "name": "stderr",
     "output_type": "stream",
     "text": [
      "C:\\Users\\sebas\\Anaconda3\\envs\\ML\\lib\\site-packages\\IPython\\core\\interactiveshell.py:3058: DtypeWarning: Columns (31) have mixed types. Specify dtype option on import or set low_memory=False.\n",
      "  interactivity=interactivity, compiler=compiler, result=result)\n"
     ]
    },
    {
     "name": "stdout",
     "output_type": "stream",
     "text": [
      "20120101-20121231_AUSTIN\\extract_public_2010_20190912084258_unit_20120101-20121231_AUSTIN.csv\n",
      "20130101-20131231_AUSTIN\\extract_public_2010_20190912084344_unit_20130101-20131231_AUSTIN.csv\n",
      "20140101-20141231_AUSTIN\\extract_public_2010_20190912084419_unit_20140101-20141231_AUSTIN.csv\n",
      "20150101-20151231_AUSTIN\\extract_public_2015_20190912084445_unit_20150101-20151231_AUSTIN.csv\n"
     ]
    },
    {
     "name": "stderr",
     "output_type": "stream",
     "text": [
      "C:\\Users\\sebas\\Anaconda3\\envs\\ML\\lib\\site-packages\\IPython\\core\\interactiveshell.py:3058: DtypeWarning: Columns (13) have mixed types. Specify dtype option on import or set low_memory=False.\n",
      "  interactivity=interactivity, compiler=compiler, result=result)\n"
     ]
    },
    {
     "name": "stdout",
     "output_type": "stream",
     "text": [
      "20160101-20161231_AUSTIN\\extract_public_2015_20190912084510_unit_20160101-20161231_AUSTIN.csv\n"
     ]
    },
    {
     "name": "stderr",
     "output_type": "stream",
     "text": [
      "C:\\Users\\sebas\\Anaconda3\\envs\\ML\\lib\\site-packages\\IPython\\core\\interactiveshell.py:3058: DtypeWarning: Columns (13,31,79) have mixed types. Specify dtype option on import or set low_memory=False.\n",
      "  interactivity=interactivity, compiler=compiler, result=result)\n"
     ]
    },
    {
     "name": "stdout",
     "output_type": "stream",
     "text": [
      "20170101-20171231_AUSTIN\\extract_public_2015_20190912084536_unit_20170101-20171231_AUSTIN.csv\n"
     ]
    },
    {
     "name": "stderr",
     "output_type": "stream",
     "text": [
      "C:\\Users\\sebas\\Anaconda3\\envs\\ML\\lib\\site-packages\\IPython\\core\\interactiveshell.py:3058: DtypeWarning: Columns (31,79) have mixed types. Specify dtype option on import or set low_memory=False.\n",
      "  interactivity=interactivity, compiler=compiler, result=result)\n"
     ]
    },
    {
     "name": "stdout",
     "output_type": "stream",
     "text": [
      "20180101-20181231_AUSTIN\\extract_public_2018_20190912084602_unit_20180101-20181231_AUSTIN.csv\n",
      "20190101-20190911_AUSTIN\\extract_public_2018_20190912084628_unit_20190101-20190911_AUSTIN.csv\n"
     ]
    }
   ],
   "source": [
    "# Creating an unified dataframe out of the 10 individual year csv's\n",
    "\n",
    "df = pd.DataFrame()\n",
    "for i in unit_csv:\n",
    "    j = i[2:]\n",
    "    print(j) #to check\n",
    "    k = (pd.read_csv(j))\n",
    "    df = df.append(k, sort=False)"
   ]
  },
  {
   "cell_type": "code",
   "execution_count": 4,
   "metadata": {},
   "outputs": [
    {
     "name": "stdout",
     "output_type": "stream",
     "text": [
      "<class 'pandas.core.frame.DataFrame'>\n",
      "Int64Index: 302437 entries, 0 to 24061\n",
      "Data columns (total 83 columns):\n",
      "Crash_ID                              302437 non-null int64\n",
      "Unit_Nbr                              302437 non-null int64\n",
      "Unit_Desc_ID                          302437 non-null int64\n",
      "Veh_Parked_Fl                         290762 non-null object\n",
      "Veh_HNR_Fl                            290762 non-null object\n",
      "Veh_Lic_State_ID                      290309 non-null float64\n",
      "VIN                                   281701 non-null object\n",
      "Veh_Mod_Year                          282574 non-null float64\n",
      "Veh_Color_ID                          282401 non-null float64\n",
      "Veh_Make_ID                           286159 non-null float64\n",
      "Veh_Mod_ID                            267093 non-null float64\n",
      "Veh_Body_Styl_ID                      289445 non-null float64\n",
      "Emer_Respndr_Fl                       290762 non-null object\n",
      "Ownr_Zip                              254434 non-null object\n",
      "Fin_Resp_Proof_ID                     279230 non-null float64\n",
      "Fin_Resp_Type_ID                      209641 non-null float64\n",
      "Veh_Dmag_Area_1_ID                    271673 non-null float64\n",
      "Veh_Dmag_Scl_1_ID                     271162 non-null float64\n",
      "Force_Dir_1_ID                        260661 non-null float64\n",
      "Veh_Dmag_Area_2_ID                    37651 non-null float64\n",
      "Veh_Dmag_Scl_2_ID                     37775 non-null float64\n",
      "Force_Dir_2_ID                        35634 non-null float64\n",
      "Veh_Inventoried_Fl                    266622 non-null object\n",
      "Veh_Transp_Name                       196382 non-null object\n",
      "Veh_Transp_Dest                       180451 non-null object\n",
      "Veh_Cmv_Fl                            290762 non-null object\n",
      "Cmv_Fiveton_Fl                        4705 non-null object\n",
      "Cmv_Hazmat_Fl                         4705 non-null object\n",
      "Cmv_Nine_Plus_Pass_Fl                 4705 non-null object\n",
      "Cmv_Veh_Oper_ID                       4396 non-null float64\n",
      "Cmv_Carrier_ID_Type_ID                4597 non-null float64\n",
      "Cmv_Carrier_Zip                       3269 non-null object\n",
      "Cmv_Road_Acc_ID                       2278 non-null float64\n",
      "Cmv_Veh_Type_ID                       4538 non-null float64\n",
      "Cmv_GVWR                              4705 non-null float64\n",
      "Cmv_RGVW                              4705 non-null float64\n",
      "Cmv_Hazmat_Rel_Fl                     4705 non-null object\n",
      "Hazmat_Cls_1_ID                       76 non-null float64\n",
      "Hazmat_IDNbr_1_ID                     76 non-null float64\n",
      "Hazmat_Cls_2_ID                       8 non-null float64\n",
      "Hazmat_IDNbr_2_ID                     8 non-null float64\n",
      "Cmv_Cargo_Body_ID                     4703 non-null float64\n",
      "Trlr1_GVWR                            0 non-null float64\n",
      "Trlr1_RGVW                            0 non-null float64\n",
      "Trlr1_Type_ID                         0 non-null float64\n",
      "Trlr2_GVWR                            0 non-null float64\n",
      "Trlr2_RGVW                            0 non-null float64\n",
      "Trlr2_Type_ID                         0 non-null float64\n",
      "Cmv_Evnt1_ID                          4238 non-null float64\n",
      "Cmv_Evnt2_ID                          273 non-null float64\n",
      "Cmv_Evnt3_ID                          54 non-null float64\n",
      "Cmv_Evnt4_ID                          21 non-null float64\n",
      "Cmv_Tot_Axle                          2594 non-null float64\n",
      "Cmv_Tot_Tire                          2549 non-null float64\n",
      "Contrib_Factr_1_ID                    284971 non-null float64\n",
      "Contrib_Factr_2_ID                    27786 non-null float64\n",
      "Contrib_Factr_3_ID                    6580 non-null float64\n",
      "Contrib_Factr_P1_ID                   30976 non-null float64\n",
      "Contrib_Factr_P2_ID                   6219 non-null float64\n",
      "Veh_Dfct_1_ID                         1891 non-null float64\n",
      "Veh_Dfct_2_ID                         74 non-null float64\n",
      "Veh_Dfct_3_ID                         35 non-null float64\n",
      "Veh_Dfct_P1_ID                        1066 non-null float64\n",
      "Veh_Dfct_P2_ID                        73 non-null float64\n",
      "Veh_Trvl_Dir_ID                       302430 non-null float64\n",
      "First_Harm_Evt_Inv_ID                 302437 non-null int64\n",
      "Sus_Serious_Injry_Cnt                 302437 non-null int64\n",
      "Nonincap_Injry_Cnt                    302437 non-null int64\n",
      "Poss_Injry_Cnt                        302437 non-null int64\n",
      "Non_Injry_Cnt                         302437 non-null int64\n",
      "Unkn_Injry_Cnt                        302437 non-null int64\n",
      "Tot_Injry_Cnt                         302437 non-null int64\n",
      "Death_Cnt                             302437 non-null int64\n",
      "Cmv_Disabling_Damage_Fl               2156 non-null object\n",
      "Cmv_Trlr1_Disabling_Dmag_ID           0 non-null float64\n",
      "Cmv_Trlr2_Disabling_Dmag_ID           0 non-null float64\n",
      "Cmv_Bus_Type_ID                       2156 non-null float64\n",
      "Trlr_GVWR                             477 non-null float64\n",
      "Trlr_RGVW                             477 non-null float64\n",
      "Trlr_Type_ID                          442 non-null float64\n",
      "Trlr_Disabling_Dmag_ID                477 non-null object\n",
      "Cmv_Intermodal_Container_Permit_Fl    744 non-null object\n",
      "CMV_Actual_Gross_Weight               45 non-null float64\n",
      "dtypes: float64(55), int64(11), object(17)\n",
      "memory usage: 193.8+ MB\n"
     ]
    }
   ],
   "source": [
    "# Verifying what columns we have and what kind of data they are\n",
    "\n",
    "df.info()"
   ]
  },
  {
   "cell_type": "code",
   "execution_count": 5,
   "metadata": {},
   "outputs": [],
   "source": [
    "# Saving the untouched merged tables to csv just in case\n",
    "\n",
    "df.to_csv('unit.csv', index= False)"
   ]
  },
  {
   "cell_type": "code",
   "execution_count": 6,
   "metadata": {},
   "outputs": [
    {
     "name": "stdout",
     "output_type": "stream",
     "text": [
      "<class 'pandas.core.frame.DataFrame'>\n",
      "Int64Index: 302437 entries, 0 to 24061\n",
      "Data columns (total 4 columns):\n",
      "Crash_ID             302437 non-null int64\n",
      "Unit_Nbr             302437 non-null int64\n",
      "Veh_Dmag_Scl_1_ID    271162 non-null float64\n",
      "Veh_Dmag_Scl_2_ID    37775 non-null float64\n",
      "dtypes: float64(2), int64(2)\n",
      "memory usage: 11.5 MB\n"
     ]
    }
   ],
   "source": [
    "# Extracting the columns we are going to use for our analysis\n",
    "# Vehicle Damage Rating 1 & 2 - Severity\n",
    "df_clean = df[['Crash_ID', 'Unit_Nbr', 'Veh_Dmag_Scl_1_ID', 'Veh_Dmag_Scl_2_ID']]\n",
    "df_clean.info()"
   ]
  },
  {
   "cell_type": "code",
   "execution_count": 7,
   "metadata": {},
   "outputs": [],
   "source": [
    "# Exporting our data to csv for analysis\n",
    "\n",
    "df_clean.to_csv('unit_clean.csv', index=False)"
   ]
  }
 ],
 "metadata": {
  "kernelspec": {
   "display_name": "Python 3",
   "language": "python",
   "name": "python3"
  },
  "language_info": {
   "codemirror_mode": {
    "name": "ipython",
    "version": 3
   },
   "file_extension": ".py",
   "mimetype": "text/x-python",
   "name": "python",
   "nbconvert_exporter": "python",
   "pygments_lexer": "ipython3",
   "version": "3.7.4"
  }
 },
 "nbformat": 4,
 "nbformat_minor": 2
}
