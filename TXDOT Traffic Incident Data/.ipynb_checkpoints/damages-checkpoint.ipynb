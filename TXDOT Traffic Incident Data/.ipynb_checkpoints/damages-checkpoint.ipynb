{
 "cells": [
  {
   "cell_type": "code",
   "execution_count": 1,
   "metadata": {},
   "outputs": [],
   "source": [
    "#Required packages\n",
    "import pandas as pd #For data manipulation\n",
    "import glob # For folder navigation"
   ]
  },
  {
   "cell_type": "code",
   "execution_count": 2,
   "metadata": {},
   "outputs": [],
   "source": [
    "#We are using tables each with 10 years of data (in separated tables)\n",
    "#we want to consolidate every type of table with all data in it\n",
    "\n",
    "damages_csv = glob.glob('./*AUSTIN/*_damages*')"
   ]
  },
  {
   "cell_type": "code",
   "execution_count": 3,
   "metadata": {},
   "outputs": [
    {
     "name": "stdout",
     "output_type": "stream",
     "text": [
      "20100101-20101231_AUSTIN\\extract_public_2010_20190912084151_damages_20100101-20101231_AUSTIN.csv\n",
      "20110101-20111231_AUSTIN\\extract_public_2010_20190912084229_damages_20110101-20111231_AUSTIN.csv\n",
      "20120101-20121231_AUSTIN\\extract_public_2010_20190912084258_damages_20120101-20121231_AUSTIN.csv\n",
      "20130101-20131231_AUSTIN\\extract_public_2010_20190912084344_damages_20130101-20131231_AUSTIN.csv\n",
      "20140101-20141231_AUSTIN\\extract_public_2010_20190912084419_damages_20140101-20141231_AUSTIN.csv\n",
      "20150101-20151231_AUSTIN\\extract_public_2015_20190912084445_damages_20150101-20151231_AUSTIN.csv\n",
      "20160101-20161231_AUSTIN\\extract_public_2015_20190912084510_damages_20160101-20161231_AUSTIN.csv\n",
      "20170101-20171231_AUSTIN\\extract_public_2015_20190912084536_damages_20170101-20171231_AUSTIN.csv\n",
      "20180101-20181231_AUSTIN\\extract_public_2018_20190912084602_damages_20180101-20181231_AUSTIN.csv\n",
      "20190101-20190911_AUSTIN\\extract_public_2018_20190912084628_damages_20190101-20190911_AUSTIN.csv\n"
     ]
    }
   ],
   "source": [
    "# Creating an unified dataframe out of the 10 individual year csv's\n",
    "\n",
    "df = pd.DataFrame()\n",
    "for i in damages_csv:\n",
    "    j = i[2:]\n",
    "    print(j) #to check\n",
    "    k = (pd.read_csv(j))\n",
    "    df = df.append(k)"
   ]
  },
  {
   "cell_type": "code",
   "execution_count": 4,
   "metadata": {},
   "outputs": [
    {
     "name": "stdout",
     "output_type": "stream",
     "text": [
      "<class 'pandas.core.frame.DataFrame'>\n",
      "Int64Index: 15323 entries, 0 to 902\n",
      "Data columns (total 2 columns):\n",
      "Crash_ID            15323 non-null int64\n",
      "Damaged_Property    15314 non-null object\n",
      "dtypes: int64(1), object(1)\n",
      "memory usage: 359.1+ KB\n"
     ]
    }
   ],
   "source": [
    "# Verifying what columns we have and what kind of data they are\n",
    "\n",
    "df.info()"
   ]
  },
  {
   "cell_type": "code",
   "execution_count": 5,
   "metadata": {},
   "outputs": [],
   "source": [
    "# Exporting our data to csv for analysis\n",
    "# This is the original data, no need to clean this one, already has what we need\n",
    "df.to_csv('damages_clean.csv', index= False)"
   ]
  }
 ],
 "metadata": {
  "kernelspec": {
   "display_name": "Python 3",
   "language": "python",
   "name": "python3"
  },
  "language_info": {
   "codemirror_mode": {
    "name": "ipython",
    "version": 3
   },
   "file_extension": ".py",
   "mimetype": "text/x-python",
   "name": "python",
   "nbconvert_exporter": "python",
   "pygments_lexer": "ipython3",
   "version": "3.7.4"
  }
 },
 "nbformat": 4,
 "nbformat_minor": 2
}
