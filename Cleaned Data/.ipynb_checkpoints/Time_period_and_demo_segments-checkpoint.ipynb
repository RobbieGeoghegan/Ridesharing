{
 "cells": [
  {
   "cell_type": "code",
   "execution_count": 3,
   "metadata": {},
   "outputs": [
    {
     "name": "stdout",
     "output_type": "stream",
     "text": [
      "Populating the interactive namespace from numpy and matplotlib\n"
     ]
    },
    {
     "name": "stderr",
     "output_type": "stream",
     "text": [
      "C:\\Users\\sebas\\Anaconda3\\envs\\ML\\lib\\site-packages\\IPython\\core\\magics\\pylab.py:160: UserWarning: pylab import has clobbered these variables: ['datetime', 'plt']\n",
      "`%matplotlib` prevents importing * from pylab and numpy\n",
      "  \"\\n`%matplotlib` prevents importing * from pylab and numpy\"\n"
     ]
    }
   ],
   "source": [
    "import matplotlib as plt\n",
    "import pandas as pd\n",
    "from datetime import datetime, timedelta\n",
    "import time\n",
    "import numpy as np\n",
    "%pylab inline"
   ]
  },
  {
   "cell_type": "code",
   "execution_count": 4,
   "metadata": {},
   "outputs": [],
   "source": [
    "df = pd.read_csv(\"demographic.csv\")"
   ]
  },
  {
   "cell_type": "code",
   "execution_count": 19,
   "metadata": {},
   "outputs": [
    {
     "name": "stderr",
     "output_type": "stream",
     "text": [
      "C:\\Users\\sebas\\Anaconda3\\envs\\ML\\lib\\site-packages\\ipykernel_launcher.py:5: FutureWarning: Comparing Series of datetimes with 'datetime.date'.  Currently, the\n",
      "'datetime.date' is coerced to a datetime. In the future pandas will\n",
      "not coerce, and a TypeError will be raised. To retain the current\n",
      "behavior, convert the 'datetime.date' to a datetime with\n",
      "'pd.Timestamp'.\n",
      "  \"\"\"\n",
      "C:\\Users\\sebas\\Anaconda3\\envs\\ML\\lib\\site-packages\\ipykernel_launcher.py:6: FutureWarning: Comparing Series of datetimes with 'datetime.date'.  Currently, the\n",
      "'datetime.date' is coerced to a datetime. In the future pandas will\n",
      "not coerce, and a TypeError will be raised. To retain the current\n",
      "behavior, convert the 'datetime.date' to a datetime with\n",
      "'pd.Timestamp'.\n",
      "  \n",
      "C:\\Users\\sebas\\Anaconda3\\envs\\ML\\lib\\site-packages\\ipykernel_launcher.py:7: FutureWarning: Comparing Series of datetimes with 'datetime.date'.  Currently, the\n",
      "'datetime.date' is coerced to a datetime. In the future pandas will\n",
      "not coerce, and a TypeError will be raised. To retain the current\n",
      "behavior, convert the 'datetime.date' to a datetime with\n",
      "'pd.Timestamp'.\n",
      "  import sys\n",
      "C:\\Users\\sebas\\Anaconda3\\envs\\ML\\lib\\site-packages\\ipykernel_launcher.py:8: FutureWarning: Comparing Series of datetimes with 'datetime.date'.  Currently, the\n",
      "'datetime.date' is coerced to a datetime. In the future pandas will\n",
      "not coerce, and a TypeError will be raised. To retain the current\n",
      "behavior, convert the 'datetime.date' to a datetime with\n",
      "'pd.Timestamp'.\n",
      "  \n",
      "C:\\Users\\sebas\\Anaconda3\\envs\\ML\\lib\\site-packages\\ipykernel_launcher.py:10: FutureWarning: Comparing Series of datetimes with 'datetime.date'.  Currently, the\n",
      "'datetime.date' is coerced to a datetime. In the future pandas will\n",
      "not coerce, and a TypeError will be raised. To retain the current\n",
      "behavior, convert the 'datetime.date' to a datetime with\n",
      "'pd.Timestamp'.\n",
      "  # Remove the CWD from sys.path while we load stuff.\n",
      "C:\\Users\\sebas\\Anaconda3\\envs\\ML\\lib\\site-packages\\ipykernel_launcher.py:11: FutureWarning: Comparing Series of datetimes with 'datetime.date'.  Currently, the\n",
      "'datetime.date' is coerced to a datetime. In the future pandas will\n",
      "not coerce, and a TypeError will be raised. To retain the current\n",
      "behavior, convert the 'datetime.date' to a datetime with\n",
      "'pd.Timestamp'.\n",
      "  # This is added back by InteractiveShellApp.init_path()\n",
      "C:\\Users\\sebas\\Anaconda3\\envs\\ML\\lib\\site-packages\\ipykernel_launcher.py:12: FutureWarning: Comparing Series of datetimes with 'datetime.date'.  Currently, the\n",
      "'datetime.date' is coerced to a datetime. In the future pandas will\n",
      "not coerce, and a TypeError will be raised. To retain the current\n",
      "behavior, convert the 'datetime.date' to a datetime with\n",
      "'pd.Timestamp'.\n",
      "  if sys.path[0] == '':\n",
      "C:\\Users\\sebas\\Anaconda3\\envs\\ML\\lib\\site-packages\\ipykernel_launcher.py:13: FutureWarning: Comparing Series of datetimes with 'datetime.date'.  Currently, the\n",
      "'datetime.date' is coerced to a datetime. In the future pandas will\n",
      "not coerce, and a TypeError will be raised. To retain the current\n",
      "behavior, convert the 'datetime.date' to a datetime with\n",
      "'pd.Timestamp'.\n",
      "  del sys.path[0]\n",
      "C:\\Users\\sebas\\Anaconda3\\envs\\ML\\lib\\site-packages\\ipykernel_launcher.py:15: FutureWarning: Comparing Series of datetimes with 'datetime.date'.  Currently, the\n",
      "'datetime.date' is coerced to a datetime. In the future pandas will\n",
      "not coerce, and a TypeError will be raised. To retain the current\n",
      "behavior, convert the 'datetime.date' to a datetime with\n",
      "'pd.Timestamp'.\n",
      "  from ipykernel import kernelapp as app\n",
      "C:\\Users\\sebas\\Anaconda3\\envs\\ML\\lib\\site-packages\\ipykernel_launcher.py:16: FutureWarning: Comparing Series of datetimes with 'datetime.date'.  Currently, the\n",
      "'datetime.date' is coerced to a datetime. In the future pandas will\n",
      "not coerce, and a TypeError will be raised. To retain the current\n",
      "behavior, convert the 'datetime.date' to a datetime with\n",
      "'pd.Timestamp'.\n",
      "  app.launch_new_instance()\n",
      "C:\\Users\\sebas\\Anaconda3\\envs\\ML\\lib\\site-packages\\ipykernel_launcher.py:17: FutureWarning: Comparing Series of datetimes with 'datetime.date'.  Currently, the\n",
      "'datetime.date' is coerced to a datetime. In the future pandas will\n",
      "not coerce, and a TypeError will be raised. To retain the current\n",
      "behavior, convert the 'datetime.date' to a datetime with\n",
      "'pd.Timestamp'.\n",
      "C:\\Users\\sebas\\Anaconda3\\envs\\ML\\lib\\site-packages\\ipykernel_launcher.py:18: FutureWarning: Comparing Series of datetimes with 'datetime.date'.  Currently, the\n",
      "'datetime.date' is coerced to a datetime. In the future pandas will\n",
      "not coerce, and a TypeError will be raised. To retain the current\n",
      "behavior, convert the 'datetime.date' to a datetime with\n",
      "'pd.Timestamp'.\n",
      "C:\\Users\\sebas\\Anaconda3\\envs\\ML\\lib\\site-packages\\ipykernel_launcher.py:19: FutureWarning: Comparing Series of datetimes with 'datetime.date'.  Currently, the\n",
      "'datetime.date' is coerced to a datetime. In the future pandas will\n",
      "not coerce, and a TypeError will be raised. To retain the current\n",
      "behavior, convert the 'datetime.date' to a datetime with\n",
      "'pd.Timestamp'.\n",
      "C:\\Users\\sebas\\Anaconda3\\envs\\ML\\lib\\site-packages\\ipykernel_launcher.py:20: FutureWarning: Comparing Series of datetimes with 'datetime.date'.  Currently, the\n",
      "'datetime.date' is coerced to a datetime. In the future pandas will\n",
      "not coerce, and a TypeError will be raised. To retain the current\n",
      "behavior, convert the 'datetime.date' to a datetime with\n",
      "'pd.Timestamp'.\n",
      "C:\\Users\\sebas\\Anaconda3\\envs\\ML\\lib\\site-packages\\ipykernel_launcher.py:21: FutureWarning: Comparing Series of datetimes with 'datetime.date'.  Currently, the\n",
      "'datetime.date' is coerced to a datetime. In the future pandas will\n",
      "not coerce, and a TypeError will be raised. To retain the current\n",
      "behavior, convert the 'datetime.date' to a datetime with\n",
      "'pd.Timestamp'.\n",
      "C:\\Users\\sebas\\Anaconda3\\envs\\ML\\lib\\site-packages\\ipykernel_launcher.py:22: FutureWarning: Comparing Series of datetimes with 'datetime.date'.  Currently, the\n",
      "'datetime.date' is coerced to a datetime. In the future pandas will\n",
      "not coerce, and a TypeError will be raised. To retain the current\n",
      "behavior, convert the 'datetime.date' to a datetime with\n",
      "'pd.Timestamp'.\n",
      "C:\\Users\\sebas\\Anaconda3\\envs\\ML\\lib\\site-packages\\ipykernel_launcher.py:23: FutureWarning: Comparing Series of datetimes with 'datetime.date'.  Currently, the\n",
      "'datetime.date' is coerced to a datetime. In the future pandas will\n",
      "not coerce, and a TypeError will be raised. To retain the current\n",
      "behavior, convert the 'datetime.date' to a datetime with\n",
      "'pd.Timestamp'.\n",
      "C:\\Users\\sebas\\Anaconda3\\envs\\ML\\lib\\site-packages\\ipykernel_launcher.py:24: FutureWarning: Comparing Series of datetimes with 'datetime.date'.  Currently, the\n",
      "'datetime.date' is coerced to a datetime. In the future pandas will\n",
      "not coerce, and a TypeError will be raised. To retain the current\n",
      "behavior, convert the 'datetime.date' to a datetime with\n",
      "'pd.Timestamp'.\n",
      "C:\\Users\\sebas\\Anaconda3\\envs\\ML\\lib\\site-packages\\ipykernel_launcher.py:25: FutureWarning: Comparing Series of datetimes with 'datetime.date'.  Currently, the\n",
      "'datetime.date' is coerced to a datetime. In the future pandas will\n",
      "not coerce, and a TypeError will be raised. To retain the current\n",
      "behavior, convert the 'datetime.date' to a datetime with\n",
      "'pd.Timestamp'.\n",
      "C:\\Users\\sebas\\Anaconda3\\envs\\ML\\lib\\site-packages\\ipykernel_launcher.py:26: FutureWarning: Comparing Series of datetimes with 'datetime.date'.  Currently, the\n",
      "'datetime.date' is coerced to a datetime. In the future pandas will\n",
      "not coerce, and a TypeError will be raised. To retain the current\n",
      "behavior, convert the 'datetime.date' to a datetime with\n",
      "'pd.Timestamp'.\n"
     ]
    }
   ],
   "source": [
    "import datetime as dt\n",
    "\n",
    "df[\"Crash_Date\"] = pd.to_datetime(df[\"Crash_Date\"], format= \"%m/%d/%Y\")\n",
    "\n",
    "df[\"time_segment\"] = np.where((df[\"Crash_Date\"] <= dt.date(2014,6,1)),\"before\", \n",
    "                              np.where((df[\"Crash_Date\"] > dt.date(2014,6,1)) & (df[\"Crash_Date\"] <= dt.date(2016,5,10)), \"entry\",\n",
    "                                       np.where((df[\"Crash_Date\"] > dt.date(2016,5,10)) & (df[\"Crash_Date\"] <= dt.date(2017,5,29)), \"exit\",\n",
    "                                                np.where((df[\"Crash_Date\"] > dt.date(2017,5,29)), \"re-entry\",\n",
    "                                                         \"error\"))))\n",
    "df[\"uber_present\"] = np.where((df[\"Crash_Date\"] <= dt.date(2014,6,1)),0, \n",
    "                              np.where((df[\"Crash_Date\"] > dt.date(2014,6,1)) & (df[\"Crash_Date\"] <= dt.date(2016,5,10)), 1,\n",
    "                                       np.where((df[\"Crash_Date\"] > dt.date(2016,5,10)) & (df[\"Crash_Date\"] <= dt.date(2017,5,29)), 0,\n",
    "                                                np.where((df[\"Crash_Date\"] > dt.date(2017,5,29)), 1,\n",
    "                                                         \"error\"))))\n",
    "df[\"bins\"] = np.where((df[\"Crash_Date\"] <= dt.date(2010,1,11)),-7, \n",
    "                      np.where((df[\"Crash_Date\"] > dt.date(2010,1,12)) & (df[\"Crash_Date\"] <= dt.date(2011,2,1)), -6,\n",
    "                          np.where((df[\"Crash_Date\"] > dt.date(2011,2,1)) & (df[\"Crash_Date\"] <= dt.date(2012,2,21)), -5,\n",
    "                              np.where((df[\"Crash_Date\"] > dt.date(2012,2,21)) & (df[\"Crash_Date\"] <= dt.date(2013,3,12)), -4,\n",
    "                                  np.where((df[\"Crash_Date\"] > dt.date(2013,3,12)) & (df[\"Crash_Date\"] <= dt.date(2014,4,1)), -3,\n",
    "                                         np.where((df[\"Crash_Date\"] > dt.date(2014,4,1)) & (df[\"Crash_Date\"] <= dt.date(2015,4,21)), -2,\n",
    "                                            np.where((df[\"Crash_Date\"] > dt.date(2015,4,21)) & (df[\"Crash_Date\"] <= dt.date(2016,5,10)), -1,\n",
    "                                               np.where((df[\"Crash_Date\"] > dt.date(2016,5,10)) & (df[\"Crash_Date\"] <= dt.date(2017,5,29)), 0,\n",
    "                                                    np.where((df[\"Crash_Date\"] > dt.date(2017,5,29)) & (df[\"Crash_Date\"] <= dt.date(2018,6,19)), 1,\n",
    "                                                        np.where((df[\"Crash_Date\"] > dt.date(2018,6,19)) & (df[\"Crash_Date\"] <= dt.date(2019,7,9)), 2,\n",
    "                                                           np.where((df[\"Crash_Date\"] > dt.date(2019,7,9)) & (df[\"Crash_Date\"] <= dt.date(2020,7,28)), 3,\n",
    "                                                                np.where((df[\"Crash_Date\"] > dt.date(2020,7,28)), 4,\"error\"))))))))))))"
   ]
  },
  {
   "cell_type": "code",
   "execution_count": 6,
   "metadata": {},
   "outputs": [
    {
     "data": {
      "text/plain": [
       "<matplotlib.axes._subplots.AxesSubplot at 0x1c5c6a2c048>"
      ]
     },
     "execution_count": 6,
     "metadata": {},
     "output_type": "execute_result"
    },
    {
     "data": {
      "image/png": "[encoded data removed]",
      "text/plain": [
       "<Figure size 432x288 with 1 Axes>"
      ]
     },
     "metadata": {
      "needs_background": "light"
     },
     "output_type": "display_data"
    }
   ],
   "source": [
    "df[\"Prsn_Age\"].hist(bins=6)"
   ]
  },
  {
   "cell_type": "code",
   "execution_count": 8,
   "metadata": {},
   "outputs": [],
   "source": [
    "col         = 'Prsn_Age'\n",
    "conditions  = [ df[col] <= 25, (df[col] <= 40) & (df[col] > 25), (df[col] <= 65) & (df[col] > 40), df[col] > 65]\n",
    "choices     = [ \"new\", 'young', 'middle-aged', 'retired' ]\n",
    "\n",
    "df[\"age_segment\"] = np.select(conditions, choices, default=np.nan)"
   ]
  },
  {
   "cell_type": "code",
   "execution_count": 9,
   "metadata": {},
   "outputs": [
    {
     "data": {
      "text/plain": [
       "young          101448\n",
       "middle-aged     81884\n",
       "new             73818\n",
       "nan             16389\n",
       "retired         12941\n",
       "Name: age_segment, dtype: int64"
      ]
     },
     "execution_count": 9,
     "metadata": {},
     "output_type": "execute_result"
    }
   ],
   "source": [
    "df[\"age_segment\"].value_counts()"
   ]
  },
  {
   "cell_type": "code",
   "execution_count": 10,
   "metadata": {},
   "outputs": [
    {
     "data": {
      "text/plain": [
       "before      119065\n",
       "re-entry     75143\n",
       "entry        56980\n",
       "exit         35292\n",
       "Name: time_segment, dtype: int64"
      ]
     },
     "execution_count": 10,
     "metadata": {},
     "output_type": "execute_result"
    }
   ],
   "source": [
    "df[\"time_segment\"].value_counts()"
   ]
  },
  {
   "cell_type": "code",
   "execution_count": 24,
   "metadata": {},
   "outputs": [
    {
     "data": {
      "text/plain": [
       "<matplotlib.axes._subplots.AxesSubplot at 0x1c5cc93f948>"
      ]
     },
     "execution_count": 24,
     "metadata": {},
     "output_type": "execute_result"
    },
    {
     "data": {
      "image/png": "[encoded data removed]",
      "text/plain": [
       "<Figure size 432x288 with 1 Axes>"
      ]
     },
     "metadata": {
      "needs_background": "light"
     },
     "output_type": "display_data"
    }
   ],
   "source": [
    "df[\"bins\"].hist()"
   ]
  },
  {
   "cell_type": "code",
   "execution_count": 14,
   "metadata": {},
   "outputs": [
    {
     "data": {
      "text/plain": [
       "0    154357\n",
       "1    132123\n",
       "Name: Present, dtype: int64"
      ]
     },
     "execution_count": 14,
     "metadata": {},
     "output_type": "execute_result"
    }
   ],
   "source": [
    "df[\"uber_present\"].value_counts()"
   ]
  },
  {
   "cell_type": "code",
   "execution_count": 11,
   "metadata": {},
   "outputs": [
    {
     "name": "stderr",
     "output_type": "stream",
     "text": [
      "C:\\Users\\sebas\\Anaconda3\\envs\\ML\\lib\\site-packages\\ipykernel_launcher.py:2: SettingWithCopyWarning: \n",
      "A value is trying to be set on a copy of a slice from a DataFrame\n",
      "\n",
      "See the caveats in the documentation: http://pandas.pydata.org/pandas-docs/stable/user_guide/indexing.html#returning-a-view-versus-a-copy\n",
      "  \n",
      "C:\\Users\\sebas\\Anaconda3\\envs\\ML\\lib\\site-packages\\ipykernel_launcher.py:5: SettingWithCopyWarning: \n",
      "A value is trying to be set on a copy of a slice from a DataFrame\n",
      "\n",
      "See the caveats in the documentation: http://pandas.pydata.org/pandas-docs/stable/user_guide/indexing.html#returning-a-view-versus-a-copy\n",
      "  \"\"\"\n"
     ]
    },
    {
     "data": {
      "text/plain": [
       "Male      157371\n",
       "Female    114266\n",
       "0.0        14154\n",
       "Name: Prsn_Gndr_ID, dtype: int64"
      ]
     },
     "execution_count": 11,
     "metadata": {},
     "output_type": "execute_result"
    }
   ],
   "source": [
    "mask = df[\"Prsn_Gndr_ID\"] == 1\n",
    "df[\"Prsn_Gndr_ID\"][mask] = \"Male\"\n",
    "\n",
    "mask = df[\"Prsn_Gndr_ID\"] == 2\n",
    "df[\"Prsn_Gndr_ID\"][mask] = \"Female\"\n",
    "df[\"Prsn_Gndr_ID\"].value_counts()"
   ]
  },
  {
   "cell_type": "code",
   "execution_count": 12,
   "metadata": {},
   "outputs": [],
   "source": [
    "df.to_csv(r'demo output.csv')"
   ]
  }
 ],
 "metadata": {
  "kernelspec": {
   "display_name": "Python 3",
   "language": "python",
   "name": "python3"
  },
  "language_info": {
   "codemirror_mode": {
    "name": "ipython",
    "version": 3
   },
   "file_extension": ".py",
   "mimetype": "text/x-python",
   "name": "python",
   "nbconvert_exporter": "python",
   "pygments_lexer": "ipython3",
   "version": "3.7.3"
  }
 },
 "nbformat": 4,
 "nbformat_minor": 4
}
